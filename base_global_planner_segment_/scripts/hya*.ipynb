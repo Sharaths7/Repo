{
 "cells": [
  {
   "cell_type": "code",
   "execution_count": 1,
   "metadata": {},
   "outputs": [
    {
     "name": "stdout",
     "output_type": "stream",
     "text": [
      "Vehicle Parameters: WB : 3 W:  2 LF:  3 LB:  3\n"
     ]
    }
   ],
   "source": [
    "import heapq\n",
    "import scipy.spatial\n",
    "import numpy as np\n",
    "import math\n",
    "import matplotlib.pyplot as plt\n",
    "import sys\n",
    "from a_star_heuristic import dp_planning  # , calc_obstacle_map\n",
    "import reeds_shepp_path as rs\n",
    "from harvey import move, check_harvey_collision, MAX_STEER, WB, plot_harvey, plot_arrow\n",
    "from parameters import *\n",
    "import time\n",
    "from math import sqrt, cos, sin, tan, pi\n",
    "import time\n",
    "import plotly.express as pl\n",
    "import plotly.graph_objects as go\n",
    "# %pip install pandas\n",
    "%matplotlib inline\n",
    "import time\n",
    "import pylab as pyl\n",
    "from IPython import display\n",
    "import plotly.express as pl\n",
    "import plotly.graph_objects as go"
   ]
  },
  {
   "cell_type": "code",
   "execution_count": 2,
   "metadata": {},
   "outputs": [],
   "source": [
    "class Node:\n",
    "\n",
    "    def __init__(self, xind, yind, yawind, direction,\n",
    "                 xlist, ylist, yawlist, directions,\n",
    "                 steer=0.0, pind=None, cost=None):\n",
    "        self.xind = xind\n",
    "        self.yind = yind\n",
    "        self.yawind = yawind\n",
    "        self.direction = direction\n",
    "        self.xlist = xlist\n",
    "        self.ylist = ylist\n",
    "        self.yawlist = yawlist\n",
    "        self.directions = directions\n",
    "        self.steer = steer\n",
    "        self.pind = pind\n",
    "        self.cost = cost\n",
    "\n",
    "\n"
   ]
  },
  {
   "cell_type": "code",
   "execution_count": 3,
   "metadata": {},
   "outputs": [],
   "source": [
    "class Path:\n",
    "\n",
    "    def __init__(self, xlist, ylist, yawlist, directionlist, cost):\n",
    "        self.xlist = xlist\n",
    "        self.ylist = ylist\n",
    "        self.yawlist = yawlist\n",
    "        self.directionlist = directionlist\n",
    "        self.cost = cost"
   ]
  },
  {
   "cell_type": "code",
   "execution_count": 4,
   "metadata": {},
   "outputs": [],
   "source": [
    "class KDTree:\n",
    "    \"\"\"\n",
    "    Nearest neighbor search class with KDTree\n",
    "    \"\"\"\n",
    "\n",
    "    def __init__(self, data):\n",
    "        # store kd-tree\n",
    "        # used cKDTree instead of KDTree for faster querying\n",
    "        self.tree = scipy.spatial.cKDTree(data)\n",
    "\n",
    "    def search(self, inp, k=1):\n",
    "        \"\"\"\n",
    "        Search NN\n",
    "        inp: input data, single frame or multi frame\n",
    "        \"\"\"\n",
    "\n",
    "        if len(inp.shape) >= 2:  # multi input\n",
    "            index = []\n",
    "            dist = []\n",
    "\n",
    "            for i in inp.T:\n",
    "                idist, iindex = self.tree.query(i, k=k)\n",
    "                index.append(iindex)\n",
    "                dist.append(idist)\n",
    "\n",
    "            return index, dist\n",
    "\n",
    "        dist, index = self.tree.query(inp, k=k)\n",
    "        return index, dist\n",
    "\n",
    "    def search_in_distance(self, inp, r):\n",
    "        \"\"\"\n",
    "        find points with in a distance r\n",
    "        \"\"\"\n",
    "\n",
    "        index = self.tree.query_ball_point(inp, r)\n",
    "        return index\n"
   ]
  },
  {
   "cell_type": "code",
   "execution_count": 5,
   "metadata": {},
   "outputs": [],
   "source": [
    "class Config:\n",
    "\n",
    "    def __init__(self, ox, oy, xyreso, yawreso):\n",
    "        min_x_m = 0\n",
    "        min_y_m = 0\n",
    "        max_x_m = 100\n",
    "        max_y_m = 100\n",
    "\n",
    "        ox.append(min_x_m)\n",
    "        oy.append(min_y_m)\n",
    "        ox.append(max_x_m)\n",
    "        oy.append(max_y_m)\n",
    "\n",
    "        self.minx = 0\n",
    "        self.miny = 0\n",
    "        self.maxx = round(max_x_m / xyreso)\n",
    "        self.maxy = round(max_y_m / xyreso)\n",
    "\n",
    "        self.xw = round(self.maxx - self.minx)\n",
    "        self.yw = round(self.maxy - self.miny)\n",
    "\n",
    "        self.minyaw = round(- math.pi / yawreso) - 1\n",
    "        self.maxyaw = round(math.pi / yawreso)\n",
    "        self.yaww = round(self.maxyaw - self.minyaw)"
   ]
  },
  {
   "cell_type": "code",
   "execution_count": 6,
   "metadata": {},
   "outputs": [],
   "source": [
    "def calc_motion_inputs():\n",
    "\n",
    "    for steer in np.concatenate((np.linspace(-MAX_STEER, MAX_STEER, N_STEER),[0.0])):\n",
    "        for d in [1, -1]:\n",
    "            yield [steer, d]\n",
    "\n",
    "\n",
    "def get_neighbors(current, config, ox, oy, kdtree):\n",
    "\n",
    "    for steer, d in calc_motion_inputs():\n",
    "        node = calc_next_node(current, steer, d, config, ox, oy, kdtree)\n",
    "        if node and verify_index(node, config):\n",
    "            yield node\n",
    "\n",
    "\n",
    "def calc_next_node(current, steer, direction, config, ox, oy, kdtree):\n",
    "\n",
    "    x, y, yaw = current.xlist[-1], current.ylist[-1], current.yawlist[-1]\n",
    "\n",
    "    arc_l = XY_GRID_RESOLUTION * 1.5\n",
    "    xlist, ylist, yawlist = [], [], []\n",
    "    for _ in np.arange(0, arc_l, MOTION_RESOLUTION):\n",
    "        x, y, yaw = move(x, y, yaw, MOTION_RESOLUTION * direction, steer)\n",
    "        xlist.append(x)\n",
    "        ylist.append(y)\n",
    "        yawlist.append(yaw)\n",
    "    if not check_harvey_collision(xlist, ylist, yawlist, ox, oy, kdtree):\n",
    "        return None\n",
    "\n",
    "    d = direction == 1\n",
    "    xind = round(x / XY_GRID_RESOLUTION)\n",
    "    yind = round(y / XY_GRID_RESOLUTION)\n",
    "    yawind = round(yaw / YAW_GRID_RESOLUTION)\n",
    "\n",
    "    addedcost = 0.0\n",
    "\n",
    "    if d != current.direction:\n",
    "        addedcost += SB_COST\n",
    "\n",
    "    # steer penalty\n",
    "    addedcost += STEER_COST * abs(steer)\n",
    "\n",
    "    # steer change penalty\n",
    "    addedcost += STEER_CHANGE_COST * abs(current.steer - steer)\n",
    "\n",
    "    cost = current.cost + addedcost + arc_l\n",
    "\n",
    "    node = Node(xind, yind, yawind, d, xlist,\n",
    "                ylist, yawlist, [d],\n",
    "                pind=calc_index(current, config),\n",
    "                cost=cost, steer=steer)\n",
    "\n",
    "    return node\n",
    "\n",
    "\n",
    "def is_same_grid(n1, n2):\n",
    "    if n1.xind == n2.xind and n1.yind == n2.yind and n1.yawind == n2.yawind:\n",
    "        return True\n",
    "    return False\n",
    "\n",
    "\n",
    "def analytic_expansion(current, goal, c, ox, oy, kdtree):\n",
    "\n",
    "    sx = current.xlist[-1]\n",
    "    sy = current.ylist[-1]\n",
    "    syaw = current.yawlist[-1]\n",
    "\n",
    "    gx = goal.xlist[-1]\n",
    "    gy = goal.ylist[-1]\n",
    "    gyaw = goal.yawlist[-1]\n",
    "\n",
    "    max_curvature = math.tan(MAX_STEER) / WB\n",
    "    paths = rs.calc_paths(sx, sy, syaw, gx, gy, gyaw,\n",
    "                          max_curvature, step_size=MOTION_RESOLUTION)\n",
    "\n",
    "    if not paths:\n",
    "        return None\n",
    "\n",
    "    best_path, best = None, None\n",
    "\n",
    "    for path in paths:\n",
    "        if check_harvey_collision(path.x, path.y, path.yaw, ox, oy, kdtree):\n",
    "            cost = calc_rs_path_cost(path)\n",
    "            if not best or best > cost:\n",
    "                best = cost\n",
    "                best_path = path\n",
    "\n",
    "\n",
    "    return best_path\n",
    "\n",
    "\n",
    "def update_node_with_analystic_expantion(current, goal,\n",
    "                                         c, ox, oy, kdtree):\n",
    "    apath = analytic_expansion(current, goal, c, ox, oy, kdtree)\n",
    "\n",
    "    if apath:\n",
    "        # plt.plot(apath.x, apath.y)\n",
    "        fx = apath.x[1:]\n",
    "        fy = apath.y[1:]\n",
    "        fyaw = apath.yaw[1:]\n",
    "\n",
    "        fcost = current.cost + calc_rs_path_cost(apath)\n",
    "        fpind = calc_index(current, c)\n",
    "\n",
    "        fd = []\n",
    "        for d in apath.directions[1:]:\n",
    "            fd.append(d >= 0)\n",
    "\n",
    "        fsteer = 0.0\n",
    "        fpath = Node(current.xind, current.yind, current.yawind,\n",
    "                     current.direction, fx, fy, fyaw, fd,\n",
    "                     cost=fcost, pind=fpind, steer=fsteer)\n",
    "        return True, fpath\n",
    "\n",
    "    return False, None\n",
    "\n",
    "\n",
    "def calc_rs_path_cost(rspath):\n",
    "\n",
    "    cost = 0.0\n",
    "    for l in rspath.lengths:\n",
    "        if l >= 0:  # forward\n",
    "            cost += l\n",
    "        else:  # back\n",
    "            cost += abs(l) * BACK_COST\n",
    "\n",
    "    # swich back penalty\n",
    "    for i in range(len(rspath.lengths) - 1):\n",
    "        if rspath.lengths[i] * rspath.lengths[i + 1] < 0.0:  # switch back\n",
    "            cost += SB_COST\n",
    "\n",
    "    # steer penalyty\n",
    "    for ctype in rspath.ctypes:\n",
    "        if ctype != \"S\":  # curve\n",
    "            cost += STEER_COST * abs(MAX_STEER)\n",
    "\n",
    "    # ==steer change penalty\n",
    "    # calc steer profile\n",
    "    nctypes = len(rspath.ctypes)\n",
    "    ulist = [0.0] * nctypes\n",
    "    for i in range(nctypes):\n",
    "        if rspath.ctypes[i] == \"R\":\n",
    "            ulist[i] = - MAX_STEER\n",
    "        elif rspath.ctypes[i] == \"L\":\n",
    "            ulist[i] = MAX_STEER\n",
    "\n",
    "    for i in range(len(rspath.ctypes) - 1):\n",
    "        cost += STEER_CHANGE_COST * abs(ulist[i + 1] - ulist[i])\n",
    "\n",
    "    return cost\n",
    "\n",
    "\n",
    "def hybrid_a_star_planning(start, goal, ox, oy, xyreso, yawreso):\n",
    "    start[2], goal[2] = rs.pi_2_pi(start[2]), rs.pi_2_pi(goal[2])\n",
    "    tox, toy = ox[:], oy[:]\n",
    "    obkdtree = KDTree(np.vstack((tox, toy)).T)\n",
    "    config = Config(tox, toy, xyreso, yawreso)\n",
    "    nstart = Node(round(start[0] / xyreso), round(start[1] / xyreso), round(start[2] / yawreso),\n",
    "                  True, [start[0]], [start[1]], [start[2]], [True], cost=0)\n",
    "    ngoal = Node(round(goal[0] / xyreso), round(goal[1] / xyreso), round(goal[2] / yawreso),\n",
    "                 True, [goal[0]], [goal[1]], [goal[2]], [True])\n",
    "\n",
    "    openList, closedList = {}, {}\n",
    "    _, _, h_dp = dp_planning(nstart.xlist[-1], nstart.ylist[-1],\n",
    "                             ngoal.xlist[-1], ngoal.ylist[-1], ox, oy, xyreso, VR)\n",
    "    pq = []\n",
    "    openList[calc_index(nstart, config)] = nstart\n",
    "    heapq.heappush(pq, (calc_cost(nstart, h_dp, ngoal, config),\n",
    "                        calc_index(nstart, config)))\n",
    "    while True:\n",
    "        if not openList:\n",
    "            print(\"Error: Cannot find path, No open set\")\n",
    "            return [], [], []\n",
    "\n",
    "        cost, c_id = heapq.heappop(pq)\n",
    "        if c_id in openList:\n",
    "            current = openList.pop(c_id)\n",
    "            closedList[c_id] = current\n",
    "        else:\n",
    "            continue\n",
    "        isupdated, fpath = update_node_with_analystic_expantion(\n",
    "            current, ngoal, config, ox, oy, obkdtree)\n",
    "        if isupdated:\n",
    "            break\n",
    "        for neighbor in get_neighbors(current, config, ox, oy, obkdtree):\n",
    "            neighbor_index = calc_index(neighbor, config)\n",
    "            if neighbor_index in closedList:\n",
    "                continue\n",
    "            if neighbor not in openList \\\n",
    "                    or openList[neighbor_index].cost > neighbor.cost:\n",
    "                heapq.heappush(\n",
    "                    pq, (calc_cost(neighbor, h_dp, ngoal, config),\n",
    "                         neighbor_index))\n",
    "                openList[neighbor_index] = neighbor\n",
    "\n",
    "    path = get_final_path(closedList, fpath, nstart, config)\n",
    "    return path\n",
    "\n",
    "def calc_cost(n, h_dp, goal, c):\n",
    "    ind = (n.yind - c.miny) * c.xw + (n.xind - c.minx)\n",
    "    if ind not in h_dp:\n",
    "        return n.cost + 999999999  # collision cost\n",
    "    return n.cost + H_COST * h_dp[ind].cost\n",
    "\n",
    "\n",
    "def get_final_path(closed, ngoal, nstart, config):\n",
    "    rx, ry, ryaw = list(reversed(ngoal.xlist)), list(\n",
    "        reversed(ngoal.ylist)), list(reversed(ngoal.yawlist))\n",
    "    direction = list(reversed(ngoal.directions))\n",
    "    nid = ngoal.pind\n",
    "    finalcost = ngoal.cost\n",
    "\n",
    "    while nid:\n",
    "        n = closed[nid]\n",
    "        rx.extend(list(reversed(n.xlist)))\n",
    "        ry.extend(list(reversed(n.ylist)))\n",
    "        ryaw.extend(list(reversed(n.yawlist)))\n",
    "        direction.extend(list(reversed(n.directions)))\n",
    "\n",
    "        nid = n.pind\n",
    "\n",
    "    rx = list(reversed(rx))\n",
    "    ry = list(reversed(ry))\n",
    "    ryaw = list(reversed(ryaw))\n",
    "    direction = list(reversed(direction))\n",
    "\n",
    "    # adjust first direction\n",
    "    direction[0] = direction[1]\n",
    "\n",
    "    path = Path(rx, ry, ryaw, direction, finalcost)\n",
    "\n",
    "    return path\n",
    "\n",
    "def verify_index(node, c):\n",
    "    xind, yind = node.xind, node.yind\n",
    "    if xind >= c.minx and xind <= c.maxx and yind >= c.miny \\\n",
    "            and yind <= c.maxy:\n",
    "        return True\n",
    "\n",
    "    return False\n",
    "\n",
    "def calc_index(node, c):\n",
    "    ind = (node.yawind - c.minyaw) * c.xw * c.yw + \\\n",
    "        (node.yind - c.miny) * c.xw + (node.xind - c.minx)\n",
    "\n",
    "    if ind <= 0:\n",
    "        print(\"Error(calc_index):\", ind)\n",
    "\n",
    "    return ind\n",
    "\n",
    "class Error(Exception):\n",
    "    pass\n",
    "\n",
    "class unknownerror(Error):\n",
    "    pass\n"
   ]
  },
  {
   "cell_type": "code",
   "execution_count": 7,
   "metadata": {},
   "outputs": [],
   "source": [
    "def unit_testing(ox,oy):\n",
    "    startList = [[0, 0, np.deg2rad(90.0)],[0, 0, np.deg2rad(90.0)], [0, 0, np.deg2rad(90.0)],[0, 0, np.deg2rad(90.0)],[0, 0, np.deg2rad(90.0)]]\n",
    "    goalList = [[10.0, 0.0, np.deg2rad(90.0)], [10.0, 5.0, np.deg2rad(90.0)], [10.0, 10.0, np.deg2rad(90.0)], [10.0, -5.0, np.deg2rad(90.0)], [10.0, -10.0, np.deg2rad(90.0)]]\n",
    "    plt.plot(ox, oy, \".k\")\n",
    "    for start in startList:\n",
    "        for goal in goalList:\n",
    "            print('Start Location:  ',start)\n",
    "            print('Goal location:    ',goal)\n",
    "            # print(start)\n",
    "            # print('!!!!',goal)\n",
    "            rs.plot_arrow(start[0], start[1], start[2], fc='g')\n",
    "            rs.plot_arrow(goal[0], goal[1], goal[2])\n",
    "            path = hybrid_a_star_planning(\n",
    "            start, goal, ox, oy, XY_GRID_RESOLUTION, YAW_GRID_RESOLUTION)\n",
    "\n",
    "            x = path.xlist\n",
    "            y = path.ylist\n",
    "            yaw = path.yawlist\n",
    "            plot_trajectory_and_motion(ox, oy,x, y, yaw)\n",
    "\n",
    "def unit_testing_local_planner(ox,oy):\n",
    "    startList = [[30.0, 20.0, np.deg2rad(90.0)]]\n",
    "    goalList = [[30.0, 35.0, np.deg2rad(90.0)], [35.0, 35.0, np.deg2rad(90.0)],[25.0, 35.0, np.deg2rad(90.0)],[40.0, 35.0, np.deg2rad(90.0)],[20.0, 35.0, np.deg2rad(90.0)],[45.0, 35.0, np.deg2rad(90.0)],[15.0, 35.0, np.deg2rad(90.0)],[50.0, 35.0, np.deg2rad(90.0)],[10.0, 35.0, np.deg2rad(90.0)]]\n",
    "    plt.plot(ox, oy, \".k\")\n",
    "    for start in startList:\n",
    "        for goal in goalList:\n",
    "            print(\"Start Location:  \",start)\n",
    "            print('Goal location:    ',goal)\n",
    "            rs.plot_arrow(start[0], start[1], start[2], fc='g')\n",
    "            rs.plot_arrow(goal[0], goal[1], goal[2])\n",
    "            path = hybrid_a_star_planning(\n",
    "            start, goal, ox, oy, XY_GRID_RESOLUTION, YAW_GRID_RESOLUTION)\n",
    "            x = path.xlist\n",
    "            y = path.ylist\n",
    "            yaw = path.yawlist\n",
    "            plot_trajectory_and_motion(ox, oy,x, y, yaw)\n",
    "\n",
    "def unit_testing_parking(ox,oy):\n",
    "    startList = [[10.0, 30.0, np.deg2rad(0)]]\n",
    "    goalList = [[10.0, 50.0, np.deg2rad(0)]]\n",
    "    plt.plot(ox, oy, \".k\")\n",
    "    for start in startList:\n",
    "        for goal in goalList:\n",
    "            print(\"Start Location:  \",start)\n",
    "            print('Goal location:    ',goal)\n",
    "            rs.plot_arrow(start[0], start[1], start[2], fc='g')\n",
    "            rs.plot_arrow(goal[0], goal[1], goal[2])\n",
    "            path = hybrid_a_star_planning(\n",
    "            start, goal, ox, oy, XY_GRID_RESOLUTION, YAW_GRID_RESOLUTION)\n",
    "            x = path.xlist\n",
    "            y = path.ylist\n",
    "            yaw = path.yawlist\n",
    "            plot_trajectory_and_motion(ox, oy,x, y, yaw)\n",
    "\n",
    "def create_world():\n",
    "    x, y = [], []\n",
    "    for i in range(60):\n",
    "        x.append(i)\n",
    "        y.append(0.0)\n",
    "    for i in range(60):\n",
    "        x.append(60.0)\n",
    "        y.append(i)\n",
    "    for i in range(61):\n",
    "        x.append(i)\n",
    "        y.append(60.0)\n",
    "    for i in range(61):\n",
    "        x.append(0.0)\n",
    "        y.append(i)\n",
    "    for i in range(40):\n",
    "        x.append(20.0)\n",
    "        y.append(i)\n",
    "    for i in range(40):\n",
    "        x.append(40.0)\n",
    "        y.append(60.0 - i)\n",
    "    return x, y\n",
    "\n",
    "def create_world_local_planner():\n",
    "    x, y = [], []\n",
    "    for i in range(60):\n",
    "        x.append(i)\n",
    "        y.append(0.0)\n",
    "    for i in range(60):\n",
    "        x.append(60.0)\n",
    "        y.append(i)\n",
    "    for i in range(61):\n",
    "        x.append(i)\n",
    "        y.append(60.0)\n",
    "    for i in range(61):\n",
    "        x.append(0.0)\n",
    "        y.append(i)\n",
    "    for i in range(40):\n",
    "        x.append(i)\n",
    "        y.append(45)\n",
    "    return x, y\n",
    "\n",
    "def plot_arrow(x, y, yaw, arrow_length=1.0,\n",
    "               origin_point_plot_style=\"xr\",\n",
    "               head_width=0.1, fc=\"r\", ec=\"k\", **kwargs):\n",
    "    if not isinstance(x, float):\n",
    "        for (i_x, i_y, i_yaw) in zip(x, y, yaw):\n",
    "            plot_arrow(i_x, i_y, i_yaw, head_width=head_width,\n",
    "                       fc=fc, ec=ec, **kwargs)\n",
    "    else:\n",
    "        plt.arrow(x, y,\n",
    "                  arrow_length * math.cos(yaw),\n",
    "                  arrow_length * math.sin(yaw),\n",
    "                  head_width=head_width,\n",
    "                  fc=fc, ec=ec,\n",
    "                  **kwargs)\n",
    "        if origin_point_plot_style is not None:\n",
    "            plt.plot(x, y, origin_point_plot_style)\n",
    "\n",
    "\n",
    "\n",
    "def plot_trajectory_and_motion(ox, oy,x, y, yaw):\n",
    "    for ix, iy, iyaw in zip(x, y, yaw):\n",
    "        plt.cla()\n",
    "        plt.plot(ox, oy, \".k\")\n",
    "        plt.plot(x, y, \"-r\", label=\"Hybrid A* path\")\n",
    "        plt.grid(True)\n",
    "        plt.axis(\"equal\")\n",
    "        plot_harvey(ix, iy, iyaw)\n",
    "        display.clear_output(wait=True)\n",
    "        display.display(pyl.gcf())\n",
    "        plt.pause(0.0000000000000000000000000001)        \n",
    "    plt.scatter(x,y)\n",
    "    plt.show()\n",
    "    "
   ]
  },
  {
   "cell_type": "code",
   "execution_count": 8,
   "metadata": {},
   "outputs": [
    {
     "name": "stdout",
     "output_type": "stream",
     "text": [
      "Goal location: [10.0, 0.0, 0.027415567780803774]\n",
      "xwidth,ywidth: 300 300\n",
      "--- 1.443213701248169 seconds ---\n",
      "Goal location: [10.0, 15.0, 0.027415567780803774]\n",
      "xwidth,ywidth: 300 300\n",
      "--- 1.3695323467254639 seconds ---\n",
      "Goal location: [10.0, 30.0, 0.027415567780803774]\n",
      "xwidth,ywidth: 300 300\n",
      "--- 1.327096700668335 seconds ---\n",
      "Goal location: [10.0, -15.0, 0.027415567780803774]\n",
      "xwidth,ywidth: 300 300\n",
      "--- 1.3603112697601318 seconds ---\n",
      "Goal location: [1, 0, 0.0, -1.5707963267948966]\n",
      "xwidth,ywidth: 300 300\n",
      "--- 1.3713557720184326 seconds ---\n"
     ]
    },
    {
     "data": {
      "application/vnd.plotly.v1+json": {
       "config": {
        "plotlyServerURL": "https://plot.ly"
       },
       "data": [
        {
         "mode": "lines",
         "name": "Path 1",
         "type": "scatter",
         "x": [
          0,
          2.9999847765930947,
          5.999984605492706,
          8.999984434392319,
          10.000000000000002
         ],
         "y": [
          0,
          0.0006754810771809755,
          -0.0003377327685194498,
          -0.0013509466142198057,
          3.3306690738754696e-16
         ]
        },
        {
         "mode": "lines",
         "name": "Path 2",
         "type": "scatter",
         "x": [
          0,
          2.743302684987228,
          4.19954866522798,
          4.805563983000893,
          5.4115793007738064,
          6.116662924772923,
          8.148278788191897,
          10
         ],
         "y": [
          0,
          1.062397794422069,
          3.619159456412323,
          6.557312861975857,
          9.495466267539392,
          12.405595864161784,
          14.533255535856343,
          14.999999999999998
         ]
        },
        {
         "mode": "lines",
         "name": "Path 3",
         "type": "scatter",
         "x": [
          0,
          2.743302684987228,
          4.197825933220681,
          4.427120013126985,
          4.631486349217601,
          4.835852685308218,
          5.040219021398835,
          5.244585357489452,
          5.448951693580068,
          5.653318029670684,
          6.16101094935046,
          8.24338988520371,
          10
         ],
         "y": [
          0,
          1.062397794422069,
          3.619497873691439,
          6.609931572506684,
          9.602962544727472,
          12.595993516948255,
          15.589024489169041,
          18.582055461389825,
          21.575086433610615,
          24.568117405831394,
          27.50170744955741,
          29.579710496370794,
          30.000000000000007
         ]
        },
        {
         "mode": "lines",
         "name": "Path 4",
         "type": "scatter",
         "x": [
          0,
          2.797403205153952,
          4.389878979422004,
          4.834255437967168,
          5.262382567348626,
          5.814655404527982,
          7.768642026730204,
          10
         ],
         "y": [
          0,
          -0.9104581280022763,
          -3.384002064022087,
          -6.350471487909018,
          -9.319765538872579,
          -12.26083257681272,
          -14.45999945890825,
          -15.000000000000002
         ]
        },
        {
         "mode": "lines",
         "name": "Path 5",
         "type": "scatter",
         "x": [
          0,
          1
         ],
         "y": [
          0,
          1.8943180357666733e-15
         ]
        },
        {
         "fill": "tozeroy",
         "mode": "markers",
         "name": "Boundary",
         "type": "scatter",
         "x": [],
         "y": []
        }
       ],
       "layout": {
        "margin": {
         "b": 100,
         "l": 100,
         "r": 100,
         "t": 100
        },
        "paper_bgcolor": "LightSteelBlue",
        "template": {
         "data": {
          "bar": [
           {
            "error_x": {
             "color": "#2a3f5f"
            },
            "error_y": {
             "color": "#2a3f5f"
            },
            "marker": {
             "line": {
              "color": "#E5ECF6",
              "width": 0.5
             },
             "pattern": {
              "fillmode": "overlay",
              "size": 10,
              "solidity": 0.2
             }
            },
            "type": "bar"
           }
          ],
          "barpolar": [
           {
            "marker": {
             "line": {
              "color": "#E5ECF6",
              "width": 0.5
             },
             "pattern": {
              "fillmode": "overlay",
              "size": 10,
              "solidity": 0.2
             }
            },
            "type": "barpolar"
           }
          ],
          "carpet": [
           {
            "aaxis": {
             "endlinecolor": "#2a3f5f",
             "gridcolor": "white",
             "linecolor": "white",
             "minorgridcolor": "white",
             "startlinecolor": "#2a3f5f"
            },
            "baxis": {
             "endlinecolor": "#2a3f5f",
             "gridcolor": "white",
             "linecolor": "white",
             "minorgridcolor": "white",
             "startlinecolor": "#2a3f5f"
            },
            "type": "carpet"
           }
          ],
          "choropleth": [
           {
            "colorbar": {
             "outlinewidth": 0,
             "ticks": ""
            },
            "type": "choropleth"
           }
          ],
          "contour": [
           {
            "colorbar": {
             "outlinewidth": 0,
             "ticks": ""
            },
            "colorscale": [
             [
              0,
              "#0d0887"
             ],
             [
              0.1111111111111111,
              "#46039f"
             ],
             [
              0.2222222222222222,
              "#7201a8"
             ],
             [
              0.3333333333333333,
              "#9c179e"
             ],
             [
              0.4444444444444444,
              "#bd3786"
             ],
             [
              0.5555555555555556,
              "#d8576b"
             ],
             [
              0.6666666666666666,
              "#ed7953"
             ],
             [
              0.7777777777777778,
              "#fb9f3a"
             ],
             [
              0.8888888888888888,
              "#fdca26"
             ],
             [
              1,
              "#f0f921"
             ]
            ],
            "type": "contour"
           }
          ],
          "contourcarpet": [
           {
            "colorbar": {
             "outlinewidth": 0,
             "ticks": ""
            },
            "type": "contourcarpet"
           }
          ],
          "heatmap": [
           {
            "colorbar": {
             "outlinewidth": 0,
             "ticks": ""
            },
            "colorscale": [
             [
              0,
              "#0d0887"
             ],
             [
              0.1111111111111111,
              "#46039f"
             ],
             [
              0.2222222222222222,
              "#7201a8"
             ],
             [
              0.3333333333333333,
              "#9c179e"
             ],
             [
              0.4444444444444444,
              "#bd3786"
             ],
             [
              0.5555555555555556,
              "#d8576b"
             ],
             [
              0.6666666666666666,
              "#ed7953"
             ],
             [
              0.7777777777777778,
              "#fb9f3a"
             ],
             [
              0.8888888888888888,
              "#fdca26"
             ],
             [
              1,
              "#f0f921"
             ]
            ],
            "type": "heatmap"
           }
          ],
          "heatmapgl": [
           {
            "colorbar": {
             "outlinewidth": 0,
             "ticks": ""
            },
            "colorscale": [
             [
              0,
              "#0d0887"
             ],
             [
              0.1111111111111111,
              "#46039f"
             ],
             [
              0.2222222222222222,
              "#7201a8"
             ],
             [
              0.3333333333333333,
              "#9c179e"
             ],
             [
              0.4444444444444444,
              "#bd3786"
             ],
             [
              0.5555555555555556,
              "#d8576b"
             ],
             [
              0.6666666666666666,
              "#ed7953"
             ],
             [
              0.7777777777777778,
              "#fb9f3a"
             ],
             [
              0.8888888888888888,
              "#fdca26"
             ],
             [
              1,
              "#f0f921"
             ]
            ],
            "type": "heatmapgl"
           }
          ],
          "histogram": [
           {
            "marker": {
             "pattern": {
              "fillmode": "overlay",
              "size": 10,
              "solidity": 0.2
             }
            },
            "type": "histogram"
           }
          ],
          "histogram2d": [
           {
            "colorbar": {
             "outlinewidth": 0,
             "ticks": ""
            },
            "colorscale": [
             [
              0,
              "#0d0887"
             ],
             [
              0.1111111111111111,
              "#46039f"
             ],
             [
              0.2222222222222222,
              "#7201a8"
             ],
             [
              0.3333333333333333,
              "#9c179e"
             ],
             [
              0.4444444444444444,
              "#bd3786"
             ],
             [
              0.5555555555555556,
              "#d8576b"
             ],
             [
              0.6666666666666666,
              "#ed7953"
             ],
             [
              0.7777777777777778,
              "#fb9f3a"
             ],
             [
              0.8888888888888888,
              "#fdca26"
             ],
             [
              1,
              "#f0f921"
             ]
            ],
            "type": "histogram2d"
           }
          ],
          "histogram2dcontour": [
           {
            "colorbar": {
             "outlinewidth": 0,
             "ticks": ""
            },
            "colorscale": [
             [
              0,
              "#0d0887"
             ],
             [
              0.1111111111111111,
              "#46039f"
             ],
             [
              0.2222222222222222,
              "#7201a8"
             ],
             [
              0.3333333333333333,
              "#9c179e"
             ],
             [
              0.4444444444444444,
              "#bd3786"
             ],
             [
              0.5555555555555556,
              "#d8576b"
             ],
             [
              0.6666666666666666,
              "#ed7953"
             ],
             [
              0.7777777777777778,
              "#fb9f3a"
             ],
             [
              0.8888888888888888,
              "#fdca26"
             ],
             [
              1,
              "#f0f921"
             ]
            ],
            "type": "histogram2dcontour"
           }
          ],
          "mesh3d": [
           {
            "colorbar": {
             "outlinewidth": 0,
             "ticks": ""
            },
            "type": "mesh3d"
           }
          ],
          "parcoords": [
           {
            "line": {
             "colorbar": {
              "outlinewidth": 0,
              "ticks": ""
             }
            },
            "type": "parcoords"
           }
          ],
          "pie": [
           {
            "automargin": true,
            "type": "pie"
           }
          ],
          "scatter": [
           {
            "fillpattern": {
             "fillmode": "overlay",
             "size": 10,
             "solidity": 0.2
            },
            "type": "scatter"
           }
          ],
          "scatter3d": [
           {
            "line": {
             "colorbar": {
              "outlinewidth": 0,
              "ticks": ""
             }
            },
            "marker": {
             "colorbar": {
              "outlinewidth": 0,
              "ticks": ""
             }
            },
            "type": "scatter3d"
           }
          ],
          "scattercarpet": [
           {
            "marker": {
             "colorbar": {
              "outlinewidth": 0,
              "ticks": ""
             }
            },
            "type": "scattercarpet"
           }
          ],
          "scattergeo": [
           {
            "marker": {
             "colorbar": {
              "outlinewidth": 0,
              "ticks": ""
             }
            },
            "type": "scattergeo"
           }
          ],
          "scattergl": [
           {
            "marker": {
             "colorbar": {
              "outlinewidth": 0,
              "ticks": ""
             }
            },
            "type": "scattergl"
           }
          ],
          "scattermapbox": [
           {
            "marker": {
             "colorbar": {
              "outlinewidth": 0,
              "ticks": ""
             }
            },
            "type": "scattermapbox"
           }
          ],
          "scatterpolar": [
           {
            "marker": {
             "colorbar": {
              "outlinewidth": 0,
              "ticks": ""
             }
            },
            "type": "scatterpolar"
           }
          ],
          "scatterpolargl": [
           {
            "marker": {
             "colorbar": {
              "outlinewidth": 0,
              "ticks": ""
             }
            },
            "type": "scatterpolargl"
           }
          ],
          "scatterternary": [
           {
            "marker": {
             "colorbar": {
              "outlinewidth": 0,
              "ticks": ""
             }
            },
            "type": "scatterternary"
           }
          ],
          "surface": [
           {
            "colorbar": {
             "outlinewidth": 0,
             "ticks": ""
            },
            "colorscale": [
             [
              0,
              "#0d0887"
             ],
             [
              0.1111111111111111,
              "#46039f"
             ],
             [
              0.2222222222222222,
              "#7201a8"
             ],
             [
              0.3333333333333333,
              "#9c179e"
             ],
             [
              0.4444444444444444,
              "#bd3786"
             ],
             [
              0.5555555555555556,
              "#d8576b"
             ],
             [
              0.6666666666666666,
              "#ed7953"
             ],
             [
              0.7777777777777778,
              "#fb9f3a"
             ],
             [
              0.8888888888888888,
              "#fdca26"
             ],
             [
              1,
              "#f0f921"
             ]
            ],
            "type": "surface"
           }
          ],
          "table": [
           {
            "cells": {
             "fill": {
              "color": "#EBF0F8"
             },
             "line": {
              "color": "white"
             }
            },
            "header": {
             "fill": {
              "color": "#C8D4E3"
             },
             "line": {
              "color": "white"
             }
            },
            "type": "table"
           }
          ]
         },
         "layout": {
          "annotationdefaults": {
           "arrowcolor": "#2a3f5f",
           "arrowhead": 0,
           "arrowwidth": 1
          },
          "autotypenumbers": "strict",
          "coloraxis": {
           "colorbar": {
            "outlinewidth": 0,
            "ticks": ""
           }
          },
          "colorscale": {
           "diverging": [
            [
             0,
             "#8e0152"
            ],
            [
             0.1,
             "#c51b7d"
            ],
            [
             0.2,
             "#de77ae"
            ],
            [
             0.3,
             "#f1b6da"
            ],
            [
             0.4,
             "#fde0ef"
            ],
            [
             0.5,
             "#f7f7f7"
            ],
            [
             0.6,
             "#e6f5d0"
            ],
            [
             0.7,
             "#b8e186"
            ],
            [
             0.8,
             "#7fbc41"
            ],
            [
             0.9,
             "#4d9221"
            ],
            [
             1,
             "#276419"
            ]
           ],
           "sequential": [
            [
             0,
             "#0d0887"
            ],
            [
             0.1111111111111111,
             "#46039f"
            ],
            [
             0.2222222222222222,
             "#7201a8"
            ],
            [
             0.3333333333333333,
             "#9c179e"
            ],
            [
             0.4444444444444444,
             "#bd3786"
            ],
            [
             0.5555555555555556,
             "#d8576b"
            ],
            [
             0.6666666666666666,
             "#ed7953"
            ],
            [
             0.7777777777777778,
             "#fb9f3a"
            ],
            [
             0.8888888888888888,
             "#fdca26"
            ],
            [
             1,
             "#f0f921"
            ]
           ],
           "sequentialminus": [
            [
             0,
             "#0d0887"
            ],
            [
             0.1111111111111111,
             "#46039f"
            ],
            [
             0.2222222222222222,
             "#7201a8"
            ],
            [
             0.3333333333333333,
             "#9c179e"
            ],
            [
             0.4444444444444444,
             "#bd3786"
            ],
            [
             0.5555555555555556,
             "#d8576b"
            ],
            [
             0.6666666666666666,
             "#ed7953"
            ],
            [
             0.7777777777777778,
             "#fb9f3a"
            ],
            [
             0.8888888888888888,
             "#fdca26"
            ],
            [
             1,
             "#f0f921"
            ]
           ]
          },
          "colorway": [
           "#636efa",
           "#EF553B",
           "#00cc96",
           "#ab63fa",
           "#FFA15A",
           "#19d3f3",
           "#FF6692",
           "#B6E880",
           "#FF97FF",
           "#FECB52"
          ],
          "font": {
           "color": "#2a3f5f"
          },
          "geo": {
           "bgcolor": "white",
           "lakecolor": "white",
           "landcolor": "#E5ECF6",
           "showlakes": true,
           "showland": true,
           "subunitcolor": "white"
          },
          "hoverlabel": {
           "align": "left"
          },
          "hovermode": "closest",
          "mapbox": {
           "style": "light"
          },
          "paper_bgcolor": "white",
          "plot_bgcolor": "#E5ECF6",
          "polar": {
           "angularaxis": {
            "gridcolor": "white",
            "linecolor": "white",
            "ticks": ""
           },
           "bgcolor": "#E5ECF6",
           "radialaxis": {
            "gridcolor": "white",
            "linecolor": "white",
            "ticks": ""
           }
          },
          "scene": {
           "xaxis": {
            "backgroundcolor": "#E5ECF6",
            "gridcolor": "white",
            "gridwidth": 2,
            "linecolor": "white",
            "showbackground": true,
            "ticks": "",
            "zerolinecolor": "white"
           },
           "yaxis": {
            "backgroundcolor": "#E5ECF6",
            "gridcolor": "white",
            "gridwidth": 2,
            "linecolor": "white",
            "showbackground": true,
            "ticks": "",
            "zerolinecolor": "white"
           },
           "zaxis": {
            "backgroundcolor": "#E5ECF6",
            "gridcolor": "white",
            "gridwidth": 2,
            "linecolor": "white",
            "showbackground": true,
            "ticks": "",
            "zerolinecolor": "white"
           }
          },
          "shapedefaults": {
           "line": {
            "color": "#2a3f5f"
           }
          },
          "ternary": {
           "aaxis": {
            "gridcolor": "white",
            "linecolor": "white",
            "ticks": ""
           },
           "baxis": {
            "gridcolor": "white",
            "linecolor": "white",
            "ticks": ""
           },
           "bgcolor": "#E5ECF6",
           "caxis": {
            "gridcolor": "white",
            "linecolor": "white",
            "ticks": ""
           }
          },
          "title": {
           "x": 0.05
          },
          "xaxis": {
           "automargin": true,
           "gridcolor": "white",
           "linecolor": "white",
           "ticks": "",
           "title": {
            "standoff": 15
           },
           "zerolinecolor": "white",
           "zerolinewidth": 2
          },
          "yaxis": {
           "automargin": true,
           "gridcolor": "white",
           "linecolor": "white",
           "ticks": "",
           "title": {
            "standoff": 15
           },
           "zerolinecolor": "white",
           "zerolinewidth": 2
          }
         }
        }
       }
      }
     },
     "metadata": {},
     "output_type": "display_data"
    }
   ],
   "source": [
    "ox, oy = [], []\n",
    "startList = [[0, 0, np.deg2rad(90.0)],[0, 0, np.deg2rad(90.0)], [0, 0, np.deg2rad(90.0)],[0, 0, np.deg2rad(90.0)],[0, 0, np.deg2rad(90.0)]]\n",
    "goalList = [[10.0, 0.0, np.deg2rad(90.0)], [10.0, 15.0, np.deg2rad(90.0)], [10.0, 30.0, np.deg2rad(90.0)], [10.0, -15.0, np.deg2rad(90.0)], [1,0, 0.0, np.deg2rad(-90.0)]]\n",
    "\n",
    "fig = go.Figure()\n",
    "\n",
    "for i in range(0, len(startList)):\n",
    "    start, goal = startList[i], goalList[i]\n",
    "    start[2] = np.deg2rad(startList[i][2])\n",
    "    goal[2] = np.deg2rad(goalList[i][2])\n",
    "    print('Goal location:', goal)\n",
    "    start_time = time.time()\n",
    "    path = hybrid_a_star_planning(start, goal, ox, oy, XY_GRID_RESOLUTION, YAW_GRID_RESOLUTION)\n",
    "    print(\"--- %s seconds ---\" % (time.time() - start_time))\n",
    "\n",
    "    x = list(path.xlist)\n",
    "    y = list(path.ylist)\n",
    "\n",
    "    fig.add_trace(go.Scatter(x=x, y=y,\n",
    "                             mode='lines',\n",
    "                             name=f'Path {i+1}'\n",
    "                             ))\n",
    "\n",
    "fig.add_trace(go.Scatter(x=ox, y=oy,\n",
    "                         mode='markers',\n",
    "                         name='Boundary',\n",
    "                         fill='tozeroy'\n",
    "                         ))\n",
    "\n",
    "fig.update_layout(\n",
    "    margin=dict(l=100, r=100, t=100, b=100),\n",
    "    paper_bgcolor=\"LightSteelBlue\",\n",
    ")\n",
    "\n",
    "fig.show()"
   ]
  },
  {
   "cell_type": "code",
   "execution_count": null,
   "metadata": {},
   "outputs": [],
   "source": []
  },
  {
   "cell_type": "code",
   "execution_count": 9,
   "metadata": {},
   "outputs": [],
   "source": [
    "def plot_3D(startList,goalList):\n",
    "    fig = go.Figure()\n",
    "    ox, oy = [], []\n",
    "    for i in range(0, len(startList)):\n",
    "        start, goal = startList[i], goalList[i]\n",
    "        start[2] = np.deg2rad(startList[i][2])\n",
    "        goal[2] = np.deg2rad(goalList[i][2])\n",
    "        print('Goal location:', goal)\n",
    "        start_time = time.time()\n",
    "        path = hybrid_a_star_planning(start, goal, ox, oy, XY_GRID_RESOLUTION, YAW_GRID_RESOLUTION)\n",
    "        print(\"--- %s seconds ---\" % (time.time() - start_time))\n",
    "\n",
    "        x = list(path.xlist)\n",
    "        y = list(path.ylist)\n",
    "        yaw = list(path.yawlist)\n",
    "\n",
    "        fig.add_trace(go.Scatter3d(x=x, y=y, z=[i] * len(x),\n",
    "                                mode='lines',\n",
    "                                name=f'Path {i+1}'\n",
    "                                ))\n",
    "\n",
    "        for j in range(len(x)):\n",
    "            arrow_x = x[j]  # x-coordinate of arrow starting point\n",
    "            arrow_y = y[j]  # y-coordinate of arrow starting point\n",
    "            arrow_yaw = yaw[j]  # yaw angle of arrow\n",
    "\n",
    "            cone_length = 0.5\n",
    "            cone_radius = 0.1\n",
    "            cone_x = arrow_x + cone_length * np.cos(arrow_yaw)\n",
    "            cone_y = arrow_y + cone_length * np.sin(arrow_yaw)\n",
    "\n",
    "            fig.add_cone(x=[arrow_x, cone_x], y=[arrow_y, cone_y], z=[i, i],\n",
    "                        u=[0, 0], v=[0, 0], w=[-cone_length, 0],\n",
    "                        sizemode=\"absolute\", sizeref=1,\n",
    "                        showscale=False, colorscale='Blues',\n",
    "                        name=f'Arrow {i+1}')\n",
    "\n",
    "    fig.add_trace(go.Scatter3d(x=ox, y=oy, z=[0] * len(ox),\n",
    "                            mode='markers',\n",
    "                            name='Boundary',\n",
    "                            marker=dict(\n",
    "                                size=2,\n",
    "                                color='black'\n",
    "                            )\n",
    "                            ))\n",
    "\n",
    "    fig.update_layout(\n",
    "        scene=dict(\n",
    "            aspectmode='manual',\n",
    "            aspectratio=dict(x=1, y=1, z=0.2),\n",
    "            camera=dict(\n",
    "                eye=dict(x=-2, y=-2, z=1.5),\n",
    "                center=dict(x=0, y=0, z=0),\n",
    "                up=dict(x=0, y=0, z=1)\n",
    "            )\n",
    "        ),\n",
    "        margin=dict(l=0, r=0, t=0, b=0),\n",
    "        showlegend=True,\n",
    "    )\n",
    "\n",
    "    fig.show()\n",
    "\n"
   ]
  },
  {
   "cell_type": "code",
   "execution_count": 10,
   "metadata": {},
   "outputs": [
    {
     "name": "stdout",
     "output_type": "stream",
     "text": [
      "Goal location: [10.0, 0.0, 0.027415567780803774]\n",
      "xwidth,ywidth: 300 300\n",
      "--- 1.4649734497070312 seconds ---\n",
      "Goal location: [10.0, 15.0, 0.027415567780803774]\n",
      "xwidth,ywidth: 300 300\n",
      "--- 1.366534948348999 seconds ---\n",
      "Goal location: [10.0, 30.0, 0.027415567780803774]\n",
      "xwidth,ywidth: 300 300\n",
      "--- 1.493016242980957 seconds ---\n",
      "Goal location: [10.0, -15.0, 0.027415567780803774]\n",
      "xwidth,ywidth: 300 300\n",
      "--- 1.3490183353424072 seconds ---\n",
      "Goal location: [10, -30, 0.027415567780803774]\n",
      "xwidth,ywidth: 300 300\n",
      "--- 1.3503127098083496 seconds ---\n"
     ]
    },
    {
     "data": {
      "application/vnd.plotly.v1+json": {
       "config": {
        "plotlyServerURL": "https://plot.ly"
       },
       "data": [
        {
         "mode": "lines",
         "name": "Path 1",
         "type": "scatter3d",
         "x": [
          0,
          2.9999847765930947,
          5.999984605492706,
          8.999984434392319,
          10.000000000000002
         ],
         "y": [
          0,
          0.0006754810771809755,
          -0.0003377327685194498,
          -0.0013509466142198057,
          3.3306690738754696e-16
         ],
         "z": [
          0,
          0,
          0,
          0,
          0
         ]
        },
        {
         "colorscale": [
          [
           0,
           "rgb(247,251,255)"
          ],
          [
           0.125,
           "rgb(222,235,247)"
          ],
          [
           0.25,
           "rgb(198,219,239)"
          ],
          [
           0.375,
           "rgb(158,202,225)"
          ],
          [
           0.5,
           "rgb(107,174,214)"
          ],
          [
           0.625,
           "rgb(66,146,198)"
          ],
          [
           0.75,
           "rgb(33,113,181)"
          ],
          [
           0.875,
           "rgb(8,81,156)"
          ],
          [
           1,
           "rgb(8,48,107)"
          ]
         ],
         "name": "Arrow 1",
         "showscale": false,
         "sizemode": "absolute",
         "sizeref": 1,
         "type": "cone",
         "u": [
          0,
          0
         ],
         "v": [
          0,
          0
         ],
         "w": [
          -0.5,
          0
         ],
         "x": [
          0,
          0.49981210842974083
         ],
         "y": [
          0,
          0.013706066796022097
         ],
         "z": [
          0,
          0
         ]
        },
        {
         "colorscale": [
          [
           0,
           "rgb(247,251,255)"
          ],
          [
           0.125,
           "rgb(222,235,247)"
          ],
          [
           0.25,
           "rgb(198,219,239)"
          ],
          [
           0.375,
           "rgb(158,202,225)"
          ],
          [
           0.5,
           "rgb(107,174,214)"
          ],
          [
           0.625,
           "rgb(66,146,198)"
          ],
          [
           0.75,
           "rgb(33,113,181)"
          ],
          [
           0.875,
           "rgb(8,81,156)"
          ],
          [
           1,
           "rgb(8,48,107)"
          ]
         ],
         "name": "Arrow 1",
         "showscale": false,
         "sizemode": "absolute",
         "sizeref": 1,
         "type": "cone",
         "u": [
          0,
          0
         ],
         "v": [
          0,
          0
         ],
         "w": [
          -0.5,
          0
         ],
         "x": [
          2.9999847765930947,
          3.4999847480763635
         ],
         "y": [
          0.0006754810771809755,
          0.0005066121028974619
         ],
         "z": [
          0,
          0
         ]
        },
        {
         "colorscale": [
          [
           0,
           "rgb(247,251,255)"
          ],
          [
           0.125,
           "rgb(222,235,247)"
          ],
          [
           0.25,
           "rgb(198,219,239)"
          ],
          [
           0.375,
           "rgb(158,202,225)"
          ],
          [
           0.5,
           "rgb(107,174,214)"
          ],
          [
           0.625,
           "rgb(66,146,198)"
          ],
          [
           0.75,
           "rgb(33,113,181)"
          ],
          [
           0.875,
           "rgb(8,81,156)"
          ],
          [
           1,
           "rgb(8,48,107)"
          ]
         ],
         "name": "Arrow 1",
         "showscale": false,
         "sizemode": "absolute",
         "sizeref": 1,
         "type": "cone",
         "u": [
          0,
          0
         ],
         "v": [
          0,
          0
         ],
         "w": [
          -0.5,
          0
         ],
         "x": [
          5.999984605492706,
          6.499984576975975
         ],
         "y": [
          -0.0003377327685194498,
          -0.0005066017428029634
         ],
         "z": [
          0,
          0
         ]
        },
        {
         "colorscale": [
          [
           0,
           "rgb(247,251,255)"
          ],
          [
           0.125,
           "rgb(222,235,247)"
          ],
          [
           0.25,
           "rgb(198,219,239)"
          ],
          [
           0.375,
           "rgb(158,202,225)"
          ],
          [
           0.5,
           "rgb(107,174,214)"
          ],
          [
           0.625,
           "rgb(66,146,198)"
          ],
          [
           0.75,
           "rgb(33,113,181)"
          ],
          [
           0.875,
           "rgb(8,81,156)"
          ],
          [
           1,
           "rgb(8,48,107)"
          ]
         ],
         "name": "Arrow 1",
         "showscale": false,
         "sizemode": "absolute",
         "sizeref": 1,
         "type": "cone",
         "u": [
          0,
          0
         ],
         "v": [
          0,
          0
         ],
         "w": [
          -0.5,
          0
         ],
         "x": [
          8.999984434392319,
          9.499984405875587
         ],
         "y": [
          -0.0013509466142198057,
          -0.0015198155885033193
         ],
         "z": [
          0,
          0
         ]
        },
        {
         "colorscale": [
          [
           0,
           "rgb(247,251,255)"
          ],
          [
           0.125,
           "rgb(222,235,247)"
          ],
          [
           0.25,
           "rgb(198,219,239)"
          ],
          [
           0.375,
           "rgb(158,202,225)"
          ],
          [
           0.5,
           "rgb(107,174,214)"
          ],
          [
           0.625,
           "rgb(66,146,198)"
          ],
          [
           0.75,
           "rgb(33,113,181)"
          ],
          [
           0.875,
           "rgb(8,81,156)"
          ],
          [
           1,
           "rgb(8,48,107)"
          ]
         ],
         "name": "Arrow 1",
         "showscale": false,
         "sizemode": "absolute",
         "sizeref": 1,
         "type": "cone",
         "u": [
          0,
          0
         ],
         "v": [
          0,
          0
         ],
         "w": [
          -0.5,
          0
         ],
         "x": [
          10.000000000000002,
          10.499812108429742
         ],
         "y": [
          3.3306690738754696e-16,
          0.01370606679602243
         ],
         "z": [
          0,
          0
         ]
        },
        {
         "mode": "lines",
         "name": "Path 2",
         "type": "scatter3d",
         "x": [
          0,
          2.743302684987228,
          4.19954866522798,
          4.805563983000893,
          5.4115793007738064,
          6.116662924772923,
          8.148278788191897,
          10
         ],
         "y": [
          0,
          1.062397794422069,
          3.619159456412323,
          6.557312861975857,
          9.495466267539392,
          12.405595864161784,
          14.533255535856343,
          14.999999999999998
         ],
         "z": [
          1,
          1,
          1,
          1,
          1,
          1,
          1,
          1
         ]
        },
        {
         "colorscale": [
          [
           0,
           "rgb(247,251,255)"
          ],
          [
           0.125,
           "rgb(222,235,247)"
          ],
          [
           0.25,
           "rgb(198,219,239)"
          ],
          [
           0.375,
           "rgb(158,202,225)"
          ],
          [
           0.5,
           "rgb(107,174,214)"
          ],
          [
           0.625,
           "rgb(66,146,198)"
          ],
          [
           0.75,
           "rgb(33,113,181)"
          ],
          [
           0.875,
           "rgb(8,81,156)"
          ],
          [
           1,
           "rgb(8,48,107)"
          ]
         ],
         "name": "Arrow 2",
         "showscale": false,
         "sizemode": "absolute",
         "sizeref": 1,
         "type": "cone",
         "u": [
          0,
          0
         ],
         "v": [
          0,
          0
         ],
         "w": [
          -0.5,
          0
         ],
         "x": [
          0,
          0.49981210842974083
         ],
         "y": [
          0,
          0.013706066796022097
         ],
         "z": [
          1,
          1
         ]
        },
        {
         "colorscale": [
          [
           0,
           "rgb(247,251,255)"
          ],
          [
           0.125,
           "rgb(222,235,247)"
          ],
          [
           0.25,
           "rgb(198,219,239)"
          ],
          [
           0.375,
           "rgb(158,202,225)"
          ],
          [
           0.5,
           "rgb(107,174,214)"
          ],
          [
           0.625,
           "rgb(66,146,198)"
          ],
          [
           0.75,
           "rgb(33,113,181)"
          ],
          [
           0.875,
           "rgb(8,81,156)"
          ],
          [
           1,
           "rgb(8,48,107)"
          ]
         ],
         "name": "Arrow 2",
         "showscale": false,
         "sizemode": "absolute",
         "sizeref": 1,
         "type": "cone",
         "u": [
          0,
          0
         ],
         "v": [
          0,
          0
         ],
         "w": [
          -0.5,
          0
         ],
         "x": [
          2.743302684987228,
          3.121977220706108
         ],
         "y": [
          1.062397794422069,
          1.3889029184218173
         ],
         "z": [
          1,
          1
         ]
        },
        {
         "colorscale": [
          [
           0,
           "rgb(247,251,255)"
          ],
          [
           0.125,
           "rgb(222,235,247)"
          ],
          [
           0.25,
           "rgb(198,219,239)"
          ],
          [
           0.375,
           "rgb(158,202,225)"
          ],
          [
           0.5,
           "rgb(107,174,214)"
          ],
          [
           0.625,
           "rgb(66,146,198)"
          ],
          [
           0.75,
           "rgb(33,113,181)"
          ],
          [
           0.875,
           "rgb(8,81,156)"
          ],
          [
           1,
           "rgb(8,48,107)"
          ]
         ],
         "name": "Arrow 2",
         "showscale": false,
         "sizemode": "absolute",
         "sizeref": 1,
         "type": "cone",
         "u": [
          0,
          0
         ],
         "v": [
          0,
          0
         ],
         "w": [
          -0.5,
          0
         ],
         "x": [
          4.19954866522798,
          4.300551218190132
         ],
         "y": [
          3.619159456412323,
          4.108851690672912
         ],
         "z": [
          1,
          1
         ]
        },
        {
         "colorscale": [
          [
           0,
           "rgb(247,251,255)"
          ],
          [
           0.125,
           "rgb(222,235,247)"
          ],
          [
           0.25,
           "rgb(198,219,239)"
          ],
          [
           0.375,
           "rgb(158,202,225)"
          ],
          [
           0.5,
           "rgb(107,174,214)"
          ],
          [
           0.625,
           "rgb(66,146,198)"
          ],
          [
           0.75,
           "rgb(33,113,181)"
          ],
          [
           0.875,
           "rgb(8,81,156)"
          ],
          [
           1,
           "rgb(8,48,107)"
          ]
         ],
         "name": "Arrow 2",
         "showscale": false,
         "sizemode": "absolute",
         "sizeref": 1,
         "type": "cone",
         "u": [
          0,
          0
         ],
         "v": [
          0,
          0
         ],
         "w": [
          -0.5,
          0
         ],
         "x": [
          4.805563983000893,
          4.906566535963045
         ],
         "y": [
          6.557312861975857,
          7.047005096236447
         ],
         "z": [
          1,
          1
         ]
        },
        {
         "colorscale": [
          [
           0,
           "rgb(247,251,255)"
          ],
          [
           0.125,
           "rgb(222,235,247)"
          ],
          [
           0.25,
           "rgb(198,219,239)"
          ],
          [
           0.375,
           "rgb(158,202,225)"
          ],
          [
           0.5,
           "rgb(107,174,214)"
          ],
          [
           0.625,
           "rgb(66,146,198)"
          ],
          [
           0.75,
           "rgb(33,113,181)"
          ],
          [
           0.875,
           "rgb(8,81,156)"
          ],
          [
           1,
           "rgb(8,48,107)"
          ]
         ],
         "name": "Arrow 2",
         "showscale": false,
         "sizemode": "absolute",
         "sizeref": 1,
         "type": "cone",
         "u": [
          0,
          0
         ],
         "v": [
          0,
          0
         ],
         "w": [
          -0.5,
          0
         ],
         "x": [
          5.4115793007738064,
          5.512581853735958
         ],
         "y": [
          9.495466267539392,
          9.985158501799981
         ],
         "z": [
          1,
          1
         ]
        },
        {
         "colorscale": [
          [
           0,
           "rgb(247,251,255)"
          ],
          [
           0.125,
           "rgb(222,235,247)"
          ],
          [
           0.25,
           "rgb(198,219,239)"
          ],
          [
           0.375,
           "rgb(158,202,225)"
          ],
          [
           0.5,
           "rgb(107,174,214)"
          ],
          [
           0.625,
           "rgb(66,146,198)"
          ],
          [
           0.75,
           "rgb(33,113,181)"
          ],
          [
           0.875,
           "rgb(8,81,156)"
          ],
          [
           1,
           "rgb(8,48,107)"
          ]
         ],
         "name": "Arrow 2",
         "showscale": false,
         "sizemode": "absolute",
         "sizeref": 1,
         "type": "cone",
         "u": [
          0,
          0
         ],
         "v": [
          0,
          0
         ],
         "w": [
          -0.5,
          0
         ],
         "x": [
          6.116662924772923,
          6.320653805695857
         ],
         "y": [
          12.405595864161784,
          12.862090903017942
         ],
         "z": [
          1,
          1
         ]
        },
        {
         "colorscale": [
          [
           0,
           "rgb(247,251,255)"
          ],
          [
           0.125,
           "rgb(222,235,247)"
          ],
          [
           0.25,
           "rgb(198,219,239)"
          ],
          [
           0.375,
           "rgb(158,202,225)"
          ],
          [
           0.5,
           "rgb(107,174,214)"
          ],
          [
           0.625,
           "rgb(66,146,198)"
          ],
          [
           0.75,
           "rgb(33,113,181)"
          ],
          [
           0.875,
           "rgb(8,81,156)"
          ],
          [
           1,
           "rgb(8,48,107)"
          ]
         ],
         "name": "Arrow 2",
         "showscale": false,
         "sizemode": "absolute",
         "sizeref": 1,
         "type": "cone",
         "u": [
          0,
          0
         ],
         "v": [
          0,
          0
         ],
         "w": [
          -0.5,
          0
         ],
         "x": [
          8.148278788191897,
          8.594871385286572
         ],
         "y": [
          14.533255535856343,
          14.758100042616533
         ],
         "z": [
          1,
          1
         ]
        },
        {
         "colorscale": [
          [
           0,
           "rgb(247,251,255)"
          ],
          [
           0.125,
           "rgb(222,235,247)"
          ],
          [
           0.25,
           "rgb(198,219,239)"
          ],
          [
           0.375,
           "rgb(158,202,225)"
          ],
          [
           0.5,
           "rgb(107,174,214)"
          ],
          [
           0.625,
           "rgb(66,146,198)"
          ],
          [
           0.75,
           "rgb(33,113,181)"
          ],
          [
           0.875,
           "rgb(8,81,156)"
          ],
          [
           1,
           "rgb(8,48,107)"
          ]
         ],
         "name": "Arrow 2",
         "showscale": false,
         "sizemode": "absolute",
         "sizeref": 1,
         "type": "cone",
         "u": [
          0,
          0
         ],
         "v": [
          0,
          0
         ],
         "w": [
          -0.5,
          0
         ],
         "x": [
          10,
          10.49981210842974
         ],
         "y": [
          14.999999999999998,
          15.01370606679602
         ],
         "z": [
          1,
          1
         ]
        },
        {
         "mode": "lines",
         "name": "Path 3",
         "type": "scatter3d",
         "x": [
          0,
          2.743302684987228,
          4.197825933220681,
          4.427120013126985,
          4.631486349217601,
          4.835852685308218,
          5.040219021398835,
          5.244585357489452,
          5.448951693580068,
          5.653318029670684,
          6.16101094935046,
          8.24338988520371,
          10
         ],
         "y": [
          0,
          1.062397794422069,
          3.619497873691439,
          6.609931572506684,
          9.602962544727472,
          12.595993516948255,
          15.589024489169041,
          18.582055461389825,
          21.575086433610615,
          24.568117405831394,
          27.50170744955741,
          29.579710496370794,
          30.000000000000007
         ],
         "z": [
          2,
          2,
          2,
          2,
          2,
          2,
          2,
          2,
          2,
          2,
          2,
          2,
          2
         ]
        },
        {
         "colorscale": [
          [
           0,
           "rgb(247,251,255)"
          ],
          [
           0.125,
           "rgb(222,235,247)"
          ],
          [
           0.25,
           "rgb(198,219,239)"
          ],
          [
           0.375,
           "rgb(158,202,225)"
          ],
          [
           0.5,
           "rgb(107,174,214)"
          ],
          [
           0.625,
           "rgb(66,146,198)"
          ],
          [
           0.75,
           "rgb(33,113,181)"
          ],
          [
           0.875,
           "rgb(8,81,156)"
          ],
          [
           1,
           "rgb(8,48,107)"
          ]
         ],
         "name": "Arrow 3",
         "showscale": false,
         "sizemode": "absolute",
         "sizeref": 1,
         "type": "cone",
         "u": [
          0,
          0
         ],
         "v": [
          0,
          0
         ],
         "w": [
          -0.5,
          0
         ],
         "x": [
          0,
          0.49981210842974083
         ],
         "y": [
          0,
          0.013706066796022097
         ],
         "z": [
          2,
          2
         ]
        },
        {
         "colorscale": [
          [
           0,
           "rgb(247,251,255)"
          ],
          [
           0.125,
           "rgb(222,235,247)"
          ],
          [
           0.25,
           "rgb(198,219,239)"
          ],
          [
           0.375,
           "rgb(158,202,225)"
          ],
          [
           0.5,
           "rgb(107,174,214)"
          ],
          [
           0.625,
           "rgb(66,146,198)"
          ],
          [
           0.75,
           "rgb(33,113,181)"
          ],
          [
           0.875,
           "rgb(8,81,156)"
          ],
          [
           1,
           "rgb(8,48,107)"
          ]
         ],
         "name": "Arrow 3",
         "showscale": false,
         "sizemode": "absolute",
         "sizeref": 1,
         "type": "cone",
         "u": [
          0,
          0
         ],
         "v": [
          0,
          0
         ],
         "w": [
          -0.5,
          0
         ],
         "x": [
          2.743302684987228,
          3.121977220706108
         ],
         "y": [
          1.062397794422069,
          1.3889029184218173
         ],
         "z": [
          2,
          2
         ]
        },
        {
         "colorscale": [
          [
           0,
           "rgb(247,251,255)"
          ],
          [
           0.125,
           "rgb(222,235,247)"
          ],
          [
           0.25,
           "rgb(198,219,239)"
          ],
          [
           0.375,
           "rgb(158,202,225)"
          ],
          [
           0.5,
           "rgb(107,174,214)"
          ],
          [
           0.625,
           "rgb(66,146,198)"
          ],
          [
           0.75,
           "rgb(33,113,181)"
          ],
          [
           0.875,
           "rgb(8,81,156)"
          ],
          [
           1,
           "rgb(8,48,107)"
          ]
         ],
         "name": "Arrow 3",
         "showscale": false,
         "sizemode": "absolute",
         "sizeref": 1,
         "type": "cone",
         "u": [
          0,
          0
         ],
         "v": [
          0,
          0
         ],
         "w": [
          -0.5,
          0
         ],
         "x": [
          4.197825933220681,
          4.284932754465954
         ],
         "y": [
          3.619497873691439,
          4.111851813142058
         ],
         "z": [
          2,
          2
         ]
        },
        {
         "colorscale": [
          [
           0,
           "rgb(247,251,255)"
          ],
          [
           0.125,
           "rgb(222,235,247)"
          ],
          [
           0.25,
           "rgb(198,219,239)"
          ],
          [
           0.375,
           "rgb(158,202,225)"
          ],
          [
           0.5,
           "rgb(107,174,214)"
          ],
          [
           0.625,
           "rgb(66,146,198)"
          ],
          [
           0.75,
           "rgb(33,113,181)"
          ],
          [
           0.875,
           "rgb(8,81,156)"
          ],
          [
           1,
           "rgb(8,48,107)"
          ]
         ],
         "name": "Arrow 3",
         "showscale": false,
         "sizemode": "absolute",
         "sizeref": 1,
         "type": "cone",
         "u": [
          0,
          0
         ],
         "v": [
          0,
          0
         ],
         "w": [
          -0.5,
          0
         ],
         "x": [
          4.427120013126985,
          4.4611810691420875
         ],
         "y": [
          6.609931572506684,
          7.108770067876815
         ],
         "z": [
          2,
          2
         ]
        },
        {
         "colorscale": [
          [
           0,
           "rgb(247,251,255)"
          ],
          [
           0.125,
           "rgb(222,235,247)"
          ],
          [
           0.25,
           "rgb(198,219,239)"
          ],
          [
           0.375,
           "rgb(158,202,225)"
          ],
          [
           0.5,
           "rgb(107,174,214)"
          ],
          [
           0.625,
           "rgb(66,146,198)"
          ],
          [
           0.75,
           "rgb(33,113,181)"
          ],
          [
           0.875,
           "rgb(8,81,156)"
          ],
          [
           1,
           "rgb(8,48,107)"
          ]
         ],
         "name": "Arrow 3",
         "showscale": false,
         "sizemode": "absolute",
         "sizeref": 1,
         "type": "cone",
         "u": [
          0,
          0
         ],
         "v": [
          0,
          0
         ],
         "w": [
          -0.5,
          0
         ],
         "x": [
          4.631486349217601,
          4.6655474052327035
         ],
         "y": [
          9.602962544727472,
          10.101801040097602
         ],
         "z": [
          2,
          2
         ]
        },
        {
         "colorscale": [
          [
           0,
           "rgb(247,251,255)"
          ],
          [
           0.125,
           "rgb(222,235,247)"
          ],
          [
           0.25,
           "rgb(198,219,239)"
          ],
          [
           0.375,
           "rgb(158,202,225)"
          ],
          [
           0.5,
           "rgb(107,174,214)"
          ],
          [
           0.625,
           "rgb(66,146,198)"
          ],
          [
           0.75,
           "rgb(33,113,181)"
          ],
          [
           0.875,
           "rgb(8,81,156)"
          ],
          [
           1,
           "rgb(8,48,107)"
          ]
         ],
         "name": "Arrow 3",
         "showscale": false,
         "sizemode": "absolute",
         "sizeref": 1,
         "type": "cone",
         "u": [
          0,
          0
         ],
         "v": [
          0,
          0
         ],
         "w": [
          -0.5,
          0
         ],
         "x": [
          4.835852685308218,
          4.8699137413233204
         ],
         "y": [
          12.595993516948255,
          13.094832012318385
         ],
         "z": [
          2,
          2
         ]
        },
        {
         "colorscale": [
          [
           0,
           "rgb(247,251,255)"
          ],
          [
           0.125,
           "rgb(222,235,247)"
          ],
          [
           0.25,
           "rgb(198,219,239)"
          ],
          [
           0.375,
           "rgb(158,202,225)"
          ],
          [
           0.5,
           "rgb(107,174,214)"
          ],
          [
           0.625,
           "rgb(66,146,198)"
          ],
          [
           0.75,
           "rgb(33,113,181)"
          ],
          [
           0.875,
           "rgb(8,81,156)"
          ],
          [
           1,
           "rgb(8,48,107)"
          ]
         ],
         "name": "Arrow 3",
         "showscale": false,
         "sizemode": "absolute",
         "sizeref": 1,
         "type": "cone",
         "u": [
          0,
          0
         ],
         "v": [
          0,
          0
         ],
         "w": [
          -0.5,
          0
         ],
         "x": [
          5.040219021398835,
          5.074280077413937
         ],
         "y": [
          15.589024489169041,
          16.08786298453917
         ],
         "z": [
          2,
          2
         ]
        },
        {
         "colorscale": [
          [
           0,
           "rgb(247,251,255)"
          ],
          [
           0.125,
           "rgb(222,235,247)"
          ],
          [
           0.25,
           "rgb(198,219,239)"
          ],
          [
           0.375,
           "rgb(158,202,225)"
          ],
          [
           0.5,
           "rgb(107,174,214)"
          ],
          [
           0.625,
           "rgb(66,146,198)"
          ],
          [
           0.75,
           "rgb(33,113,181)"
          ],
          [
           0.875,
           "rgb(8,81,156)"
          ],
          [
           1,
           "rgb(8,48,107)"
          ]
         ],
         "name": "Arrow 3",
         "showscale": false,
         "sizemode": "absolute",
         "sizeref": 1,
         "type": "cone",
         "u": [
          0,
          0
         ],
         "v": [
          0,
          0
         ],
         "w": [
          -0.5,
          0
         ],
         "x": [
          5.244585357489452,
          5.278646413504554
         ],
         "y": [
          18.582055461389825,
          19.080893956759954
         ],
         "z": [
          2,
          2
         ]
        },
        {
         "colorscale": [
          [
           0,
           "rgb(247,251,255)"
          ],
          [
           0.125,
           "rgb(222,235,247)"
          ],
          [
           0.25,
           "rgb(198,219,239)"
          ],
          [
           0.375,
           "rgb(158,202,225)"
          ],
          [
           0.5,
           "rgb(107,174,214)"
          ],
          [
           0.625,
           "rgb(66,146,198)"
          ],
          [
           0.75,
           "rgb(33,113,181)"
          ],
          [
           0.875,
           "rgb(8,81,156)"
          ],
          [
           1,
           "rgb(8,48,107)"
          ]
         ],
         "name": "Arrow 3",
         "showscale": false,
         "sizemode": "absolute",
         "sizeref": 1,
         "type": "cone",
         "u": [
          0,
          0
         ],
         "v": [
          0,
          0
         ],
         "w": [
          -0.5,
          0
         ],
         "x": [
          5.448951693580068,
          5.48301274959517
         ],
         "y": [
          21.575086433610615,
          22.073924928980745
         ],
         "z": [
          2,
          2
         ]
        },
        {
         "colorscale": [
          [
           0,
           "rgb(247,251,255)"
          ],
          [
           0.125,
           "rgb(222,235,247)"
          ],
          [
           0.25,
           "rgb(198,219,239)"
          ],
          [
           0.375,
           "rgb(158,202,225)"
          ],
          [
           0.5,
           "rgb(107,174,214)"
          ],
          [
           0.625,
           "rgb(66,146,198)"
          ],
          [
           0.75,
           "rgb(33,113,181)"
          ],
          [
           0.875,
           "rgb(8,81,156)"
          ],
          [
           1,
           "rgb(8,48,107)"
          ]
         ],
         "name": "Arrow 3",
         "showscale": false,
         "sizemode": "absolute",
         "sizeref": 1,
         "type": "cone",
         "u": [
          0,
          0
         ],
         "v": [
          0,
          0
         ],
         "w": [
          -0.5,
          0
         ],
         "x": [
          5.653318029670684,
          5.687379085685786
         ],
         "y": [
          24.568117405831394,
          25.066955901201524
         ],
         "z": [
          2,
          2
         ]
        },
        {
         "colorscale": [
          [
           0,
           "rgb(247,251,255)"
          ],
          [
           0.125,
           "rgb(222,235,247)"
          ],
          [
           0.25,
           "rgb(198,219,239)"
          ],
          [
           0.375,
           "rgb(158,202,225)"
          ],
          [
           0.5,
           "rgb(107,174,214)"
          ],
          [
           0.625,
           "rgb(66,146,198)"
          ],
          [
           0.75,
           "rgb(33,113,181)"
          ],
          [
           0.875,
           "rgb(8,81,156)"
          ],
          [
           1,
           "rgb(8,48,107)"
          ]
         ],
         "name": "Arrow 3",
         "showscale": false,
         "sizemode": "absolute",
         "sizeref": 1,
         "type": "cone",
         "u": [
          0,
          0
         ],
         "v": [
          0,
          0
         ],
         "w": [
          -0.5,
          0
         ],
         "x": [
          6.16101094935046,
          6.375960742486264
         ],
         "y": [
          27.50170744955741,
          27.953145802415115
         ],
         "z": [
          2,
          2
         ]
        },
        {
         "colorscale": [
          [
           0,
           "rgb(247,251,255)"
          ],
          [
           0.125,
           "rgb(222,235,247)"
          ],
          [
           0.25,
           "rgb(198,219,239)"
          ],
          [
           0.375,
           "rgb(158,202,225)"
          ],
          [
           0.5,
           "rgb(107,174,214)"
          ],
          [
           0.625,
           "rgb(66,146,198)"
          ],
          [
           0.75,
           "rgb(33,113,181)"
          ],
          [
           0.875,
           "rgb(8,81,156)"
          ],
          [
           1,
           "rgb(8,48,107)"
          ]
         ],
         "name": "Arrow 3",
         "showscale": false,
         "sizemode": "absolute",
         "sizeref": 1,
         "type": "cone",
         "u": [
          0,
          0
         ],
         "v": [
          0,
          0
         ],
         "w": [
          -0.5,
          0
         ],
         "x": [
          8.24338988520371,
          8.695279407034716
         ],
         "y": [
          29.579710496370794,
          29.793710169406395
         ],
         "z": [
          2,
          2
         ]
        },
        {
         "colorscale": [
          [
           0,
           "rgb(247,251,255)"
          ],
          [
           0.125,
           "rgb(222,235,247)"
          ],
          [
           0.25,
           "rgb(198,219,239)"
          ],
          [
           0.375,
           "rgb(158,202,225)"
          ],
          [
           0.5,
           "rgb(107,174,214)"
          ],
          [
           0.625,
           "rgb(66,146,198)"
          ],
          [
           0.75,
           "rgb(33,113,181)"
          ],
          [
           0.875,
           "rgb(8,81,156)"
          ],
          [
           1,
           "rgb(8,48,107)"
          ]
         ],
         "name": "Arrow 3",
         "showscale": false,
         "sizemode": "absolute",
         "sizeref": 1,
         "type": "cone",
         "u": [
          0,
          0
         ],
         "v": [
          0,
          0
         ],
         "w": [
          -0.5,
          0
         ],
         "x": [
          10,
          10.49981210842974
         ],
         "y": [
          30.000000000000007,
          30.01370606679603
         ],
         "z": [
          2,
          2
         ]
        },
        {
         "mode": "lines",
         "name": "Path 4",
         "type": "scatter3d",
         "x": [
          0,
          2.797403205153952,
          4.389878979422004,
          4.834255437967168,
          5.262382567348626,
          5.814655404527982,
          7.768642026730204,
          10
         ],
         "y": [
          0,
          -0.9104581280022763,
          -3.384002064022087,
          -6.350471487909018,
          -9.319765538872579,
          -12.26083257681272,
          -14.45999945890825,
          -15.000000000000002
         ],
         "z": [
          3,
          3,
          3,
          3,
          3,
          3,
          3,
          3
         ]
        },
        {
         "colorscale": [
          [
           0,
           "rgb(247,251,255)"
          ],
          [
           0.125,
           "rgb(222,235,247)"
          ],
          [
           0.25,
           "rgb(198,219,239)"
          ],
          [
           0.375,
           "rgb(158,202,225)"
          ],
          [
           0.5,
           "rgb(107,174,214)"
          ],
          [
           0.625,
           "rgb(66,146,198)"
          ],
          [
           0.75,
           "rgb(33,113,181)"
          ],
          [
           0.875,
           "rgb(8,81,156)"
          ],
          [
           1,
           "rgb(8,48,107)"
          ]
         ],
         "name": "Arrow 4",
         "showscale": false,
         "sizemode": "absolute",
         "sizeref": 1,
         "type": "cone",
         "u": [
          0,
          0
         ],
         "v": [
          0,
          0
         ],
         "w": [
          -0.5,
          0
         ],
         "x": [
          0,
          0.49981210842974083
         ],
         "y": [
          0,
          0.013706066796022097
         ],
         "z": [
          3,
          3
         ]
        },
        {
         "colorscale": [
          [
           0,
           "rgb(247,251,255)"
          ],
          [
           0.125,
           "rgb(222,235,247)"
          ],
          [
           0.25,
           "rgb(198,219,239)"
          ],
          [
           0.375,
           "rgb(158,202,225)"
          ],
          [
           0.5,
           "rgb(107,174,214)"
          ],
          [
           0.625,
           "rgb(66,146,198)"
          ],
          [
           0.75,
           "rgb(33,113,181)"
          ],
          [
           0.875,
           "rgb(8,81,156)"
          ],
          [
           1,
           "rgb(8,48,107)"
          ]
         ],
         "name": "Arrow 4",
         "showscale": false,
         "sizemode": "absolute",
         "sizeref": 1,
         "type": "cone",
         "u": [
          0,
          0
         ],
         "v": [
          0,
          0
         ],
         "w": [
          -0.5,
          0
         ],
         "x": [
          2.797403205153952,
          3.1934023272803214
         ],
         "y": [
          -0.9104581280022763,
          -1.2157198112760617
         ],
         "z": [
          3,
          3
         ]
        },
        {
         "colorscale": [
          [
           0,
           "rgb(247,251,255)"
          ],
          [
           0.125,
           "rgb(222,235,247)"
          ],
          [
           0.25,
           "rgb(198,219,239)"
          ],
          [
           0.375,
           "rgb(158,202,225)"
          ],
          [
           0.5,
           "rgb(107,174,214)"
          ],
          [
           0.625,
           "rgb(66,146,198)"
          ],
          [
           0.75,
           "rgb(33,113,181)"
          ],
          [
           0.875,
           "rgb(8,81,156)"
          ],
          [
           1,
           "rgb(8,48,107)"
          ]
         ],
         "name": "Arrow 4",
         "showscale": false,
         "sizemode": "absolute",
         "sizeref": 1,
         "type": "cone",
         "u": [
          0,
          0
         ],
         "v": [
          0,
          0
         ],
         "w": [
          -0.5,
          0
         ],
         "x": [
          4.389878979422004,
          4.50383769260145
         ],
         "y": [
          -3.384002064022087,
          -3.8708422962240743
         ],
         "z": [
          3,
          3
         ]
        },
        {
         "colorscale": [
          [
           0,
           "rgb(247,251,255)"
          ],
          [
           0.125,
           "rgb(222,235,247)"
          ],
          [
           0.25,
           "rgb(198,219,239)"
          ],
          [
           0.375,
           "rgb(158,202,225)"
          ],
          [
           0.5,
           "rgb(107,174,214)"
          ],
          [
           0.625,
           "rgb(66,146,198)"
          ],
          [
           0.75,
           "rgb(33,113,181)"
          ],
          [
           0.875,
           "rgb(8,81,156)"
          ],
          [
           1,
           "rgb(8,48,107)"
          ]
         ],
         "name": "Arrow 4",
         "showscale": false,
         "sizemode": "absolute",
         "sizeref": 1,
         "type": "cone",
         "u": [
          0,
          0
         ],
         "v": [
          0,
          0
         ],
         "w": [
          -0.5,
          0
         ],
         "x": [
          4.834255437967168,
          4.905609959530745
         ],
         "y": [
          -6.350471487909018,
          -6.845353829736278
         ],
         "z": [
          3,
          3
         ]
        },
        {
         "colorscale": [
          [
           0,
           "rgb(247,251,255)"
          ],
          [
           0.125,
           "rgb(222,235,247)"
          ],
          [
           0.25,
           "rgb(198,219,239)"
          ],
          [
           0.375,
           "rgb(158,202,225)"
          ],
          [
           0.5,
           "rgb(107,174,214)"
          ],
          [
           0.625,
           "rgb(66,146,198)"
          ],
          [
           0.75,
           "rgb(33,113,181)"
          ],
          [
           0.875,
           "rgb(8,81,156)"
          ],
          [
           1,
           "rgb(8,48,107)"
          ]
         ],
         "name": "Arrow 4",
         "showscale": false,
         "sizemode": "absolute",
         "sizeref": 1,
         "type": "cone",
         "u": [
          0,
          0
         ],
         "v": [
          0,
          0
         ],
         "w": [
          -0.5,
          0
         ],
         "x": [
          5.262382567348626,
          5.333737088912203
         ],
         "y": [
          -9.319765538872579,
          -9.81464788069984
         ],
         "z": [
          3,
          3
         ]
        },
        {
         "colorscale": [
          [
           0,
           "rgb(247,251,255)"
          ],
          [
           0.125,
           "rgb(222,235,247)"
          ],
          [
           0.25,
           "rgb(198,219,239)"
          ],
          [
           0.375,
           "rgb(158,202,225)"
          ],
          [
           0.5,
           "rgb(107,174,214)"
          ],
          [
           0.625,
           "rgb(66,146,198)"
          ],
          [
           0.75,
           "rgb(33,113,181)"
          ],
          [
           0.875,
           "rgb(8,81,156)"
          ],
          [
           1,
           "rgb(8,48,107)"
          ]
         ],
         "name": "Arrow 4",
         "showscale": false,
         "sizemode": "absolute",
         "sizeref": 1,
         "type": "cone",
         "u": [
          0,
          0
         ],
         "v": [
          0,
          0
         ],
         "w": [
          -0.5,
          0
         ],
         "x": [
          5.814655404527982,
          6.002139969888908
         ],
         "y": [
          -12.26083257681272,
          -12.724351225576095
         ],
         "z": [
          3,
          3
         ]
        },
        {
         "colorscale": [
          [
           0,
           "rgb(247,251,255)"
          ],
          [
           0.125,
           "rgb(222,235,247)"
          ],
          [
           0.25,
           "rgb(198,219,239)"
          ],
          [
           0.375,
           "rgb(158,202,225)"
          ],
          [
           0.5,
           "rgb(107,174,214)"
          ],
          [
           0.625,
           "rgb(66,146,198)"
          ],
          [
           0.75,
           "rgb(33,113,181)"
          ],
          [
           0.875,
           "rgb(8,81,156)"
          ],
          [
           1,
           "rgb(8,48,107)"
          ]
         ],
         "name": "Arrow 4",
         "showscale": false,
         "sizemode": "absolute",
         "sizeref": 1,
         "type": "cone",
         "u": [
          0,
          0
         ],
         "v": [
          0,
          0
         ],
         "w": [
          -0.5,
          0
         ],
         "x": [
          7.768642026730204,
          8.206881760712395
         ],
         "y": [
          -14.45999945890825,
          -14.700719079128993
         ],
         "z": [
          3,
          3
         ]
        },
        {
         "colorscale": [
          [
           0,
           "rgb(247,251,255)"
          ],
          [
           0.125,
           "rgb(222,235,247)"
          ],
          [
           0.25,
           "rgb(198,219,239)"
          ],
          [
           0.375,
           "rgb(158,202,225)"
          ],
          [
           0.5,
           "rgb(107,174,214)"
          ],
          [
           0.625,
           "rgb(66,146,198)"
          ],
          [
           0.75,
           "rgb(33,113,181)"
          ],
          [
           0.875,
           "rgb(8,81,156)"
          ],
          [
           1,
           "rgb(8,48,107)"
          ]
         ],
         "name": "Arrow 4",
         "showscale": false,
         "sizemode": "absolute",
         "sizeref": 1,
         "type": "cone",
         "u": [
          0,
          0
         ],
         "v": [
          0,
          0
         ],
         "w": [
          -0.5,
          0
         ],
         "x": [
          10,
          10.49981210842974
         ],
         "y": [
          -15.000000000000002,
          -14.98629393320398
         ],
         "z": [
          3,
          3
         ]
        },
        {
         "mode": "lines",
         "name": "Path 5",
         "type": "scatter3d",
         "x": [
          0,
          2.797403205153952,
          4.389878979422004,
          4.601789729848139,
          4.740116314821673,
          4.878442899795205,
          5.016769484768737,
          5.155096069742271,
          5.293422654715803,
          5.431749239689335,
          5.833751979315243,
          7.812795053018016,
          10
         ],
         "y": [
          0,
          -0.9104581280022763,
          -3.384002064022087,
          -6.372878711293099,
          -9.369687973807075,
          -12.36649723632105,
          -15.363306498835026,
          -18.360115761349007,
          -21.35692502386298,
          -24.353734286376955,
          -27.30727822818969,
          -29.483924089941226,
          -30.000000000000004
         ],
         "z": [
          4,
          4,
          4,
          4,
          4,
          4,
          4,
          4,
          4,
          4,
          4,
          4,
          4
         ]
        },
        {
         "colorscale": [
          [
           0,
           "rgb(247,251,255)"
          ],
          [
           0.125,
           "rgb(222,235,247)"
          ],
          [
           0.25,
           "rgb(198,219,239)"
          ],
          [
           0.375,
           "rgb(158,202,225)"
          ],
          [
           0.5,
           "rgb(107,174,214)"
          ],
          [
           0.625,
           "rgb(66,146,198)"
          ],
          [
           0.75,
           "rgb(33,113,181)"
          ],
          [
           0.875,
           "rgb(8,81,156)"
          ],
          [
           1,
           "rgb(8,48,107)"
          ]
         ],
         "name": "Arrow 5",
         "showscale": false,
         "sizemode": "absolute",
         "sizeref": 1,
         "type": "cone",
         "u": [
          0,
          0
         ],
         "v": [
          0,
          0
         ],
         "w": [
          -0.5,
          0
         ],
         "x": [
          0,
          0.49981210842974083
         ],
         "y": [
          0,
          0.013706066796022097
         ],
         "z": [
          4,
          4
         ]
        },
        {
         "colorscale": [
          [
           0,
           "rgb(247,251,255)"
          ],
          [
           0.125,
           "rgb(222,235,247)"
          ],
          [
           0.25,
           "rgb(198,219,239)"
          ],
          [
           0.375,
           "rgb(158,202,225)"
          ],
          [
           0.5,
           "rgb(107,174,214)"
          ],
          [
           0.625,
           "rgb(66,146,198)"
          ],
          [
           0.75,
           "rgb(33,113,181)"
          ],
          [
           0.875,
           "rgb(8,81,156)"
          ],
          [
           1,
           "rgb(8,48,107)"
          ]
         ],
         "name": "Arrow 5",
         "showscale": false,
         "sizemode": "absolute",
         "sizeref": 1,
         "type": "cone",
         "u": [
          0,
          0
         ],
         "v": [
          0,
          0
         ],
         "w": [
          -0.5,
          0
         ],
         "x": [
          2.797403205153952,
          3.1934023272803214
         ],
         "y": [
          -0.9104581280022763,
          -1.2157198112760617
         ],
         "z": [
          4,
          4
         ]
        },
        {
         "colorscale": [
          [
           0,
           "rgb(247,251,255)"
          ],
          [
           0.125,
           "rgb(222,235,247)"
          ],
          [
           0.25,
           "rgb(198,219,239)"
          ],
          [
           0.375,
           "rgb(158,202,225)"
          ],
          [
           0.5,
           "rgb(107,174,214)"
          ],
          [
           0.625,
           "rgb(66,146,198)"
          ],
          [
           0.75,
           "rgb(33,113,181)"
          ],
          [
           0.875,
           "rgb(8,81,156)"
          ],
          [
           1,
           "rgb(8,48,107)"
          ]
         ],
         "name": "Arrow 5",
         "showscale": false,
         "sizemode": "absolute",
         "sizeref": 1,
         "type": "cone",
         "u": [
          0,
          0
         ],
         "v": [
          0,
          0
         ],
         "w": [
          -0.5,
          0
         ],
         "x": [
          4.389878979422004,
          4.50383769260145
         ],
         "y": [
          -3.384002064022087,
          -3.8708422962240743
         ],
         "z": [
          4,
          4
         ]
        },
        {
         "colorscale": [
          [
           0,
           "rgb(247,251,255)"
          ],
          [
           0.125,
           "rgb(222,235,247)"
          ],
          [
           0.25,
           "rgb(198,219,239)"
          ],
          [
           0.375,
           "rgb(158,202,225)"
          ],
          [
           0.5,
           "rgb(107,174,214)"
          ],
          [
           0.625,
           "rgb(66,146,198)"
          ],
          [
           0.75,
           "rgb(33,113,181)"
          ],
          [
           0.875,
           "rgb(8,81,156)"
          ],
          [
           1,
           "rgb(8,48,107)"
          ]
         ],
         "name": "Arrow 5",
         "showscale": false,
         "sizemode": "absolute",
         "sizeref": 1,
         "type": "cone",
         "u": [
          0,
          0
         ],
         "v": [
          0,
          0
         ],
         "w": [
          -0.5,
          0
         ],
         "x": [
          4.601789729848139,
          4.624844160677061
         ],
         "y": [
          -6.372878711293099,
          -6.872346921712095
         ],
         "z": [
          4,
          4
         ]
        },
        {
         "colorscale": [
          [
           0,
           "rgb(247,251,255)"
          ],
          [
           0.125,
           "rgb(222,235,247)"
          ],
          [
           0.25,
           "rgb(198,219,239)"
          ],
          [
           0.375,
           "rgb(158,202,225)"
          ],
          [
           0.5,
           "rgb(107,174,214)"
          ],
          [
           0.625,
           "rgb(66,146,198)"
          ],
          [
           0.75,
           "rgb(33,113,181)"
          ],
          [
           0.875,
           "rgb(8,81,156)"
          ],
          [
           1,
           "rgb(8,48,107)"
          ]
         ],
         "name": "Arrow 5",
         "showscale": false,
         "sizemode": "absolute",
         "sizeref": 1,
         "type": "cone",
         "u": [
          0,
          0
         ],
         "v": [
          0,
          0
         ],
         "w": [
          -0.5,
          0
         ],
         "x": [
          4.740116314821673,
          4.763170745650595
         ],
         "y": [
          -9.369687973807075,
          -9.869156184226071
         ],
         "z": [
          4,
          4
         ]
        },
        {
         "colorscale": [
          [
           0,
           "rgb(247,251,255)"
          ],
          [
           0.125,
           "rgb(222,235,247)"
          ],
          [
           0.25,
           "rgb(198,219,239)"
          ],
          [
           0.375,
           "rgb(158,202,225)"
          ],
          [
           0.5,
           "rgb(107,174,214)"
          ],
          [
           0.625,
           "rgb(66,146,198)"
          ],
          [
           0.75,
           "rgb(33,113,181)"
          ],
          [
           0.875,
           "rgb(8,81,156)"
          ],
          [
           1,
           "rgb(8,48,107)"
          ]
         ],
         "name": "Arrow 5",
         "showscale": false,
         "sizemode": "absolute",
         "sizeref": 1,
         "type": "cone",
         "u": [
          0,
          0
         ],
         "v": [
          0,
          0
         ],
         "w": [
          -0.5,
          0
         ],
         "x": [
          4.878442899795205,
          4.901497330624127
         ],
         "y": [
          -12.36649723632105,
          -12.865965446740047
         ],
         "z": [
          4,
          4
         ]
        },
        {
         "colorscale": [
          [
           0,
           "rgb(247,251,255)"
          ],
          [
           0.125,
           "rgb(222,235,247)"
          ],
          [
           0.25,
           "rgb(198,219,239)"
          ],
          [
           0.375,
           "rgb(158,202,225)"
          ],
          [
           0.5,
           "rgb(107,174,214)"
          ],
          [
           0.625,
           "rgb(66,146,198)"
          ],
          [
           0.75,
           "rgb(33,113,181)"
          ],
          [
           0.875,
           "rgb(8,81,156)"
          ],
          [
           1,
           "rgb(8,48,107)"
          ]
         ],
         "name": "Arrow 5",
         "showscale": false,
         "sizemode": "absolute",
         "sizeref": 1,
         "type": "cone",
         "u": [
          0,
          0
         ],
         "v": [
          0,
          0
         ],
         "w": [
          -0.5,
          0
         ],
         "x": [
          5.016769484768737,
          5.039823915597659
         ],
         "y": [
          -15.363306498835026,
          -15.862774709254023
         ],
         "z": [
          4,
          4
         ]
        },
        {
         "colorscale": [
          [
           0,
           "rgb(247,251,255)"
          ],
          [
           0.125,
           "rgb(222,235,247)"
          ],
          [
           0.25,
           "rgb(198,219,239)"
          ],
          [
           0.375,
           "rgb(158,202,225)"
          ],
          [
           0.5,
           "rgb(107,174,214)"
          ],
          [
           0.625,
           "rgb(66,146,198)"
          ],
          [
           0.75,
           "rgb(33,113,181)"
          ],
          [
           0.875,
           "rgb(8,81,156)"
          ],
          [
           1,
           "rgb(8,48,107)"
          ]
         ],
         "name": "Arrow 5",
         "showscale": false,
         "sizemode": "absolute",
         "sizeref": 1,
         "type": "cone",
         "u": [
          0,
          0
         ],
         "v": [
          0,
          0
         ],
         "w": [
          -0.5,
          0
         ],
         "x": [
          5.155096069742271,
          5.178150500571193
         ],
         "y": [
          -18.360115761349007,
          -18.859583971768004
         ],
         "z": [
          4,
          4
         ]
        },
        {
         "colorscale": [
          [
           0,
           "rgb(247,251,255)"
          ],
          [
           0.125,
           "rgb(222,235,247)"
          ],
          [
           0.25,
           "rgb(198,219,239)"
          ],
          [
           0.375,
           "rgb(158,202,225)"
          ],
          [
           0.5,
           "rgb(107,174,214)"
          ],
          [
           0.625,
           "rgb(66,146,198)"
          ],
          [
           0.75,
           "rgb(33,113,181)"
          ],
          [
           0.875,
           "rgb(8,81,156)"
          ],
          [
           1,
           "rgb(8,48,107)"
          ]
         ],
         "name": "Arrow 5",
         "showscale": false,
         "sizemode": "absolute",
         "sizeref": 1,
         "type": "cone",
         "u": [
          0,
          0
         ],
         "v": [
          0,
          0
         ],
         "w": [
          -0.5,
          0
         ],
         "x": [
          5.293422654715803,
          5.316477085544725
         ],
         "y": [
          -21.35692502386298,
          -21.856393234281978
         ],
         "z": [
          4,
          4
         ]
        },
        {
         "colorscale": [
          [
           0,
           "rgb(247,251,255)"
          ],
          [
           0.125,
           "rgb(222,235,247)"
          ],
          [
           0.25,
           "rgb(198,219,239)"
          ],
          [
           0.375,
           "rgb(158,202,225)"
          ],
          [
           0.5,
           "rgb(107,174,214)"
          ],
          [
           0.625,
           "rgb(66,146,198)"
          ],
          [
           0.75,
           "rgb(33,113,181)"
          ],
          [
           0.875,
           "rgb(8,81,156)"
          ],
          [
           1,
           "rgb(8,48,107)"
          ]
         ],
         "name": "Arrow 5",
         "showscale": false,
         "sizemode": "absolute",
         "sizeref": 1,
         "type": "cone",
         "u": [
          0,
          0
         ],
         "v": [
          0,
          0
         ],
         "w": [
          -0.5,
          0
         ],
         "x": [
          5.431749239689335,
          5.454803670518257
         ],
         "y": [
          -24.353734286376955,
          -24.85320249679595
         ],
         "z": [
          4,
          4
         ]
        },
        {
         "colorscale": [
          [
           0,
           "rgb(247,251,255)"
          ],
          [
           0.125,
           "rgb(222,235,247)"
          ],
          [
           0.25,
           "rgb(198,219,239)"
          ],
          [
           0.375,
           "rgb(158,202,225)"
          ],
          [
           0.5,
           "rgb(107,174,214)"
          ],
          [
           0.625,
           "rgb(66,146,198)"
          ],
          [
           0.75,
           "rgb(33,113,181)"
          ],
          [
           0.875,
           "rgb(8,81,156)"
          ],
          [
           1,
           "rgb(8,48,107)"
          ]
         ],
         "name": "Arrow 5",
         "showscale": false,
         "sizemode": "absolute",
         "sizeref": 1,
         "type": "cone",
         "u": [
          0,
          0
         ],
         "v": [
          0,
          0
         ],
         "w": [
          -0.5,
          0
         ],
         "x": [
          5.833751979315243,
          6.026532407958568
         ],
         "y": [
          -27.30727822818969,
          -27.768619431998864
         ],
         "z": [
          4,
          4
         ]
        },
        {
         "colorscale": [
          [
           0,
           "rgb(247,251,255)"
          ],
          [
           0.125,
           "rgb(222,235,247)"
          ],
          [
           0.25,
           "rgb(198,219,239)"
          ],
          [
           0.375,
           "rgb(158,202,225)"
          ],
          [
           0.5,
           "rgb(107,174,214)"
          ],
          [
           0.625,
           "rgb(66,146,198)"
          ],
          [
           0.75,
           "rgb(33,113,181)"
          ],
          [
           0.875,
           "rgb(8,81,156)"
          ],
          [
           1,
           "rgb(8,48,107)"
          ]
         ],
         "name": "Arrow 5",
         "showscale": false,
         "sizemode": "absolute",
         "sizeref": 1,
         "type": "cone",
         "u": [
          0,
          0
         ],
         "v": [
          0,
          0
         ],
         "w": [
          -0.5,
          0
         ],
         "x": [
          7.812795053018016,
          8.253762740452816
         ],
         "y": [
          -29.483924089941226,
          -29.719609258414774
         ],
         "z": [
          4,
          4
         ]
        },
        {
         "colorscale": [
          [
           0,
           "rgb(247,251,255)"
          ],
          [
           0.125,
           "rgb(222,235,247)"
          ],
          [
           0.25,
           "rgb(198,219,239)"
          ],
          [
           0.375,
           "rgb(158,202,225)"
          ],
          [
           0.5,
           "rgb(107,174,214)"
          ],
          [
           0.625,
           "rgb(66,146,198)"
          ],
          [
           0.75,
           "rgb(33,113,181)"
          ],
          [
           0.875,
           "rgb(8,81,156)"
          ],
          [
           1,
           "rgb(8,48,107)"
          ]
         ],
         "name": "Arrow 5",
         "showscale": false,
         "sizemode": "absolute",
         "sizeref": 1,
         "type": "cone",
         "u": [
          0,
          0
         ],
         "v": [
          0,
          0
         ],
         "w": [
          -0.5,
          0
         ],
         "x": [
          10,
          10.49981210842974
         ],
         "y": [
          -30.000000000000004,
          -29.98629393320398
         ],
         "z": [
          4,
          4
         ]
        },
        {
         "marker": {
          "color": "black",
          "size": 2
         },
         "mode": "markers",
         "name": "Boundary",
         "type": "scatter3d",
         "x": [],
         "y": [],
         "z": []
        }
       ],
       "layout": {
        "margin": {
         "b": 0,
         "l": 0,
         "r": 0,
         "t": 0
        },
        "scene": {
         "aspectmode": "manual",
         "aspectratio": {
          "x": 1,
          "y": 1,
          "z": 0.2
         },
         "camera": {
          "center": {
           "x": 0,
           "y": 0,
           "z": 0
          },
          "eye": {
           "x": -2,
           "y": -2,
           "z": 1.5
          },
          "up": {
           "x": 0,
           "y": 0,
           "z": 1
          }
         }
        },
        "showlegend": true,
        "template": {
         "data": {
          "bar": [
           {
            "error_x": {
             "color": "#2a3f5f"
            },
            "error_y": {
             "color": "#2a3f5f"
            },
            "marker": {
             "line": {
              "color": "#E5ECF6",
              "width": 0.5
             },
             "pattern": {
              "fillmode": "overlay",
              "size": 10,
              "solidity": 0.2
             }
            },
            "type": "bar"
           }
          ],
          "barpolar": [
           {
            "marker": {
             "line": {
              "color": "#E5ECF6",
              "width": 0.5
             },
             "pattern": {
              "fillmode": "overlay",
              "size": 10,
              "solidity": 0.2
             }
            },
            "type": "barpolar"
           }
          ],
          "carpet": [
           {
            "aaxis": {
             "endlinecolor": "#2a3f5f",
             "gridcolor": "white",
             "linecolor": "white",
             "minorgridcolor": "white",
             "startlinecolor": "#2a3f5f"
            },
            "baxis": {
             "endlinecolor": "#2a3f5f",
             "gridcolor": "white",
             "linecolor": "white",
             "minorgridcolor": "white",
             "startlinecolor": "#2a3f5f"
            },
            "type": "carpet"
           }
          ],
          "choropleth": [
           {
            "colorbar": {
             "outlinewidth": 0,
             "ticks": ""
            },
            "type": "choropleth"
           }
          ],
          "contour": [
           {
            "colorbar": {
             "outlinewidth": 0,
             "ticks": ""
            },
            "colorscale": [
             [
              0,
              "#0d0887"
             ],
             [
              0.1111111111111111,
              "#46039f"
             ],
             [
              0.2222222222222222,
              "#7201a8"
             ],
             [
              0.3333333333333333,
              "#9c179e"
             ],
             [
              0.4444444444444444,
              "#bd3786"
             ],
             [
              0.5555555555555556,
              "#d8576b"
             ],
             [
              0.6666666666666666,
              "#ed7953"
             ],
             [
              0.7777777777777778,
              "#fb9f3a"
             ],
             [
              0.8888888888888888,
              "#fdca26"
             ],
             [
              1,
              "#f0f921"
             ]
            ],
            "type": "contour"
           }
          ],
          "contourcarpet": [
           {
            "colorbar": {
             "outlinewidth": 0,
             "ticks": ""
            },
            "type": "contourcarpet"
           }
          ],
          "heatmap": [
           {
            "colorbar": {
             "outlinewidth": 0,
             "ticks": ""
            },
            "colorscale": [
             [
              0,
              "#0d0887"
             ],
             [
              0.1111111111111111,
              "#46039f"
             ],
             [
              0.2222222222222222,
              "#7201a8"
             ],
             [
              0.3333333333333333,
              "#9c179e"
             ],
             [
              0.4444444444444444,
              "#bd3786"
             ],
             [
              0.5555555555555556,
              "#d8576b"
             ],
             [
              0.6666666666666666,
              "#ed7953"
             ],
             [
              0.7777777777777778,
              "#fb9f3a"
             ],
             [
              0.8888888888888888,
              "#fdca26"
             ],
             [
              1,
              "#f0f921"
             ]
            ],
            "type": "heatmap"
           }
          ],
          "heatmapgl": [
           {
            "colorbar": {
             "outlinewidth": 0,
             "ticks": ""
            },
            "colorscale": [
             [
              0,
              "#0d0887"
             ],
             [
              0.1111111111111111,
              "#46039f"
             ],
             [
              0.2222222222222222,
              "#7201a8"
             ],
             [
              0.3333333333333333,
              "#9c179e"
             ],
             [
              0.4444444444444444,
              "#bd3786"
             ],
             [
              0.5555555555555556,
              "#d8576b"
             ],
             [
              0.6666666666666666,
              "#ed7953"
             ],
             [
              0.7777777777777778,
              "#fb9f3a"
             ],
             [
              0.8888888888888888,
              "#fdca26"
             ],
             [
              1,
              "#f0f921"
             ]
            ],
            "type": "heatmapgl"
           }
          ],
          "histogram": [
           {
            "marker": {
             "pattern": {
              "fillmode": "overlay",
              "size": 10,
              "solidity": 0.2
             }
            },
            "type": "histogram"
           }
          ],
          "histogram2d": [
           {
            "colorbar": {
             "outlinewidth": 0,
             "ticks": ""
            },
            "colorscale": [
             [
              0,
              "#0d0887"
             ],
             [
              0.1111111111111111,
              "#46039f"
             ],
             [
              0.2222222222222222,
              "#7201a8"
             ],
             [
              0.3333333333333333,
              "#9c179e"
             ],
             [
              0.4444444444444444,
              "#bd3786"
             ],
             [
              0.5555555555555556,
              "#d8576b"
             ],
             [
              0.6666666666666666,
              "#ed7953"
             ],
             [
              0.7777777777777778,
              "#fb9f3a"
             ],
             [
              0.8888888888888888,
              "#fdca26"
             ],
             [
              1,
              "#f0f921"
             ]
            ],
            "type": "histogram2d"
           }
          ],
          "histogram2dcontour": [
           {
            "colorbar": {
             "outlinewidth": 0,
             "ticks": ""
            },
            "colorscale": [
             [
              0,
              "#0d0887"
             ],
             [
              0.1111111111111111,
              "#46039f"
             ],
             [
              0.2222222222222222,
              "#7201a8"
             ],
             [
              0.3333333333333333,
              "#9c179e"
             ],
             [
              0.4444444444444444,
              "#bd3786"
             ],
             [
              0.5555555555555556,
              "#d8576b"
             ],
             [
              0.6666666666666666,
              "#ed7953"
             ],
             [
              0.7777777777777778,
              "#fb9f3a"
             ],
             [
              0.8888888888888888,
              "#fdca26"
             ],
             [
              1,
              "#f0f921"
             ]
            ],
            "type": "histogram2dcontour"
           }
          ],
          "mesh3d": [
           {
            "colorbar": {
             "outlinewidth": 0,
             "ticks": ""
            },
            "type": "mesh3d"
           }
          ],
          "parcoords": [
           {
            "line": {
             "colorbar": {
              "outlinewidth": 0,
              "ticks": ""
             }
            },
            "type": "parcoords"
           }
          ],
          "pie": [
           {
            "automargin": true,
            "type": "pie"
           }
          ],
          "scatter": [
           {
            "fillpattern": {
             "fillmode": "overlay",
             "size": 10,
             "solidity": 0.2
            },
            "type": "scatter"
           }
          ],
          "scatter3d": [
           {
            "line": {
             "colorbar": {
              "outlinewidth": 0,
              "ticks": ""
             }
            },
            "marker": {
             "colorbar": {
              "outlinewidth": 0,
              "ticks": ""
             }
            },
            "type": "scatter3d"
           }
          ],
          "scattercarpet": [
           {
            "marker": {
             "colorbar": {
              "outlinewidth": 0,
              "ticks": ""
             }
            },
            "type": "scattercarpet"
           }
          ],
          "scattergeo": [
           {
            "marker": {
             "colorbar": {
              "outlinewidth": 0,
              "ticks": ""
             }
            },
            "type": "scattergeo"
           }
          ],
          "scattergl": [
           {
            "marker": {
             "colorbar": {
              "outlinewidth": 0,
              "ticks": ""
             }
            },
            "type": "scattergl"
           }
          ],
          "scattermapbox": [
           {
            "marker": {
             "colorbar": {
              "outlinewidth": 0,
              "ticks": ""
             }
            },
            "type": "scattermapbox"
           }
          ],
          "scatterpolar": [
           {
            "marker": {
             "colorbar": {
              "outlinewidth": 0,
              "ticks": ""
             }
            },
            "type": "scatterpolar"
           }
          ],
          "scatterpolargl": [
           {
            "marker": {
             "colorbar": {
              "outlinewidth": 0,
              "ticks": ""
             }
            },
            "type": "scatterpolargl"
           }
          ],
          "scatterternary": [
           {
            "marker": {
             "colorbar": {
              "outlinewidth": 0,
              "ticks": ""
             }
            },
            "type": "scatterternary"
           }
          ],
          "surface": [
           {
            "colorbar": {
             "outlinewidth": 0,
             "ticks": ""
            },
            "colorscale": [
             [
              0,
              "#0d0887"
             ],
             [
              0.1111111111111111,
              "#46039f"
             ],
             [
              0.2222222222222222,
              "#7201a8"
             ],
             [
              0.3333333333333333,
              "#9c179e"
             ],
             [
              0.4444444444444444,
              "#bd3786"
             ],
             [
              0.5555555555555556,
              "#d8576b"
             ],
             [
              0.6666666666666666,
              "#ed7953"
             ],
             [
              0.7777777777777778,
              "#fb9f3a"
             ],
             [
              0.8888888888888888,
              "#fdca26"
             ],
             [
              1,
              "#f0f921"
             ]
            ],
            "type": "surface"
           }
          ],
          "table": [
           {
            "cells": {
             "fill": {
              "color": "#EBF0F8"
             },
             "line": {
              "color": "white"
             }
            },
            "header": {
             "fill": {
              "color": "#C8D4E3"
             },
             "line": {
              "color": "white"
             }
            },
            "type": "table"
           }
          ]
         },
         "layout": {
          "annotationdefaults": {
           "arrowcolor": "#2a3f5f",
           "arrowhead": 0,
           "arrowwidth": 1
          },
          "autotypenumbers": "strict",
          "coloraxis": {
           "colorbar": {
            "outlinewidth": 0,
            "ticks": ""
           }
          },
          "colorscale": {
           "diverging": [
            [
             0,
             "#8e0152"
            ],
            [
             0.1,
             "#c51b7d"
            ],
            [
             0.2,
             "#de77ae"
            ],
            [
             0.3,
             "#f1b6da"
            ],
            [
             0.4,
             "#fde0ef"
            ],
            [
             0.5,
             "#f7f7f7"
            ],
            [
             0.6,
             "#e6f5d0"
            ],
            [
             0.7,
             "#b8e186"
            ],
            [
             0.8,
             "#7fbc41"
            ],
            [
             0.9,
             "#4d9221"
            ],
            [
             1,
             "#276419"
            ]
           ],
           "sequential": [
            [
             0,
             "#0d0887"
            ],
            [
             0.1111111111111111,
             "#46039f"
            ],
            [
             0.2222222222222222,
             "#7201a8"
            ],
            [
             0.3333333333333333,
             "#9c179e"
            ],
            [
             0.4444444444444444,
             "#bd3786"
            ],
            [
             0.5555555555555556,
             "#d8576b"
            ],
            [
             0.6666666666666666,
             "#ed7953"
            ],
            [
             0.7777777777777778,
             "#fb9f3a"
            ],
            [
             0.8888888888888888,
             "#fdca26"
            ],
            [
             1,
             "#f0f921"
            ]
           ],
           "sequentialminus": [
            [
             0,
             "#0d0887"
            ],
            [
             0.1111111111111111,
             "#46039f"
            ],
            [
             0.2222222222222222,
             "#7201a8"
            ],
            [
             0.3333333333333333,
             "#9c179e"
            ],
            [
             0.4444444444444444,
             "#bd3786"
            ],
            [
             0.5555555555555556,
             "#d8576b"
            ],
            [
             0.6666666666666666,
             "#ed7953"
            ],
            [
             0.7777777777777778,
             "#fb9f3a"
            ],
            [
             0.8888888888888888,
             "#fdca26"
            ],
            [
             1,
             "#f0f921"
            ]
           ]
          },
          "colorway": [
           "#636efa",
           "#EF553B",
           "#00cc96",
           "#ab63fa",
           "#FFA15A",
           "#19d3f3",
           "#FF6692",
           "#B6E880",
           "#FF97FF",
           "#FECB52"
          ],
          "font": {
           "color": "#2a3f5f"
          },
          "geo": {
           "bgcolor": "white",
           "lakecolor": "white",
           "landcolor": "#E5ECF6",
           "showlakes": true,
           "showland": true,
           "subunitcolor": "white"
          },
          "hoverlabel": {
           "align": "left"
          },
          "hovermode": "closest",
          "mapbox": {
           "style": "light"
          },
          "paper_bgcolor": "white",
          "plot_bgcolor": "#E5ECF6",
          "polar": {
           "angularaxis": {
            "gridcolor": "white",
            "linecolor": "white",
            "ticks": ""
           },
           "bgcolor": "#E5ECF6",
           "radialaxis": {
            "gridcolor": "white",
            "linecolor": "white",
            "ticks": ""
           }
          },
          "scene": {
           "xaxis": {
            "backgroundcolor": "#E5ECF6",
            "gridcolor": "white",
            "gridwidth": 2,
            "linecolor": "white",
            "showbackground": true,
            "ticks": "",
            "zerolinecolor": "white"
           },
           "yaxis": {
            "backgroundcolor": "#E5ECF6",
            "gridcolor": "white",
            "gridwidth": 2,
            "linecolor": "white",
            "showbackground": true,
            "ticks": "",
            "zerolinecolor": "white"
           },
           "zaxis": {
            "backgroundcolor": "#E5ECF6",
            "gridcolor": "white",
            "gridwidth": 2,
            "linecolor": "white",
            "showbackground": true,
            "ticks": "",
            "zerolinecolor": "white"
           }
          },
          "shapedefaults": {
           "line": {
            "color": "#2a3f5f"
           }
          },
          "ternary": {
           "aaxis": {
            "gridcolor": "white",
            "linecolor": "white",
            "ticks": ""
           },
           "baxis": {
            "gridcolor": "white",
            "linecolor": "white",
            "ticks": ""
           },
           "bgcolor": "#E5ECF6",
           "caxis": {
            "gridcolor": "white",
            "linecolor": "white",
            "ticks": ""
           }
          },
          "title": {
           "x": 0.05
          },
          "xaxis": {
           "automargin": true,
           "gridcolor": "white",
           "linecolor": "white",
           "ticks": "",
           "title": {
            "standoff": 15
           },
           "zerolinecolor": "white",
           "zerolinewidth": 2
          },
          "yaxis": {
           "automargin": true,
           "gridcolor": "white",
           "linecolor": "white",
           "ticks": "",
           "title": {
            "standoff": 15
           },
           "zerolinecolor": "white",
           "zerolinewidth": 2
          }
         }
        }
       }
      }
     },
     "metadata": {},
     "output_type": "display_data"
    }
   ],
   "source": [
    "startList = [[0, 0, np.deg2rad(90.0)],[0, 0, np.deg2rad(90.0)], [0, 0, np.deg2rad(90.0)],[0, 0, np.deg2rad(90.0)],[0, 0, np.deg2rad(90.0)]]\n",
    "goalList = [[10.0, 0.0, np.deg2rad(90.0)], [10.0, 15.0, np.deg2rad(90.0)], [10.0, 30.0, np.deg2rad(90.0)], [10.0, -15.0, np.deg2rad(90.0)], [10,-30, np.deg2rad(90.0)]]\n",
    "plot_3D(startList,goalList)"
   ]
  },
  {
   "cell_type": "code",
   "execution_count": 11,
   "metadata": {},
   "outputs": [],
   "source": [
    "\n",
    "def transform_vehicle(vehicle_point_object, next_state, angle_of_rotation):\n",
    "  lst=[]\n",
    "  for pt in vehicle_point_object.input_coordinates:\n",
    "    new_x=(pt[0]-vehicle_point_object.center[0])*np.cos(angle_of_rotation) + (pt[1]-vehicle_point_object.center[1])*np.sin(angle_of_rotation)+next_state[0]\n",
    "    new_y=-(pt[0]-vehicle_point_object.center[0])*np.sin(angle_of_rotation)+(pt[1]-vehicle_point_object.center[1])*np.cos(angle_of_rotation)+next_state[1]\n",
    "    print(new_x, new_y)\n",
    "    lst.append([new_x,new_y])\n",
    "  # vehicle_point_ret=vehicle_points(np.array(lst),next_state)\n",
    "  print(lst)\n",
    "  # return vehicle_point_ret\n"
   ]
  },
  {
   "cell_type": "code",
   "execution_count": 12,
   "metadata": {},
   "outputs": [],
   "source": [
    "class vehicle_points():\n",
    "  def __init__(self,input_coordinates,center):\n",
    "    self.input_coordinates=input_coordinates\n",
    "    self.center=center\n",
    "\n",
    "vehicle_pt_obj_actual = vehicle_points( np.array([[0,0.75],[1,1.5],[0,0.75], #left\n",
    "                                                 [-0.75,0],[row_y_offset,-1.5],[row_y_offset,-2.25]]), #right\n",
    "\n",
    "                                                  [0,0] )"
   ]
  },
  {
   "cell_type": "code",
   "execution_count": null,
   "metadata": {},
   "outputs": [],
   "source": []
  }
 ],
 "metadata": {
  "kernelspec": {
   "display_name": "Python 3 (ipykernel)",
   "language": "python",
   "name": "python3"
  },
  "language_info": {
   "codemirror_mode": {
    "name": "ipython",
    "version": 3
   },
   "file_extension": ".py",
   "mimetype": "text/x-python",
   "name": "python",
   "nbconvert_exporter": "python",
   "pygments_lexer": "ipython3",
   "version": "3.8.10"
  },
  "toc-autonumbering": false,
  "toc-showcode": true,
  "toc-showmarkdowntxt": false,
  "vscode": {
   "interpreter": {
    "hash": "916dbcbb3f70747c44a77c7bcd40155683ae19c65e1c03b4aa3499c5328201f1"
   }
  }
 },
 "nbformat": 4,
 "nbformat_minor": 4
}
